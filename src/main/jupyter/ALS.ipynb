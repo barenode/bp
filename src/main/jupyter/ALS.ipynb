{
 "cells": [
  {
   "cell_type": "code",
   "execution_count": 1,
   "metadata": {},
   "outputs": [
    {
     "name": "stdout",
     "output_type": "stream",
     "text": [
      "env: SPARK_HOME=/usr/hdp/current/spark2-client\n",
      "<pyspark.sql.session.SparkSession object at 0x7f0330651940>\n"
     ]
    }
   ],
   "source": [
    "%env SPARK_HOME=/usr/hdp/current/spark2-client\n",
    "\n",
    "import findspark\n",
    "findspark.init()\n",
    "\n",
    "import pyspark\n",
    "from pyspark.sql import SparkSession\n",
    "from pyspark.sql.functions import expr, col, column, max, min\n",
    "\n",
    "spark = SparkSession.builder.getOrCreate()\n",
    "print(spark)"
   ]
  },
  {
   "cell_type": "markdown",
   "metadata": {},
   "source": []
  },
  {
   "cell_type": "code",
   "execution_count": 2,
   "metadata": {},
   "outputs": [
    {
     "name": "stdout",
     "output_type": "stream",
     "text": [
      "root\n",
      " |-- User-ID: string (nullable = true)\n",
      " |-- Location: string (nullable = true)\n",
      " |-- Age: string (nullable = true)\n",
      "\n",
      "root\n",
      " |-- userId: integer (nullable = true)\n",
      " |-- age: integer (nullable = true)\n",
      "\n",
      "+------+----+\n",
      "|userId| age|\n",
      "+------+----+\n",
      "|     1|null|\n",
      "|     2|  18|\n",
      "|     3|null|\n",
      "|     4|  17|\n",
      "|     5|null|\n",
      "+------+----+\n",
      "only showing top 5 rows\n",
      "\n"
     ]
    }
   ],
   "source": [
    "users_raw = spark.read.format(\"csv\")\\\n",
    "    .option(\"sep\",\";\")\\\n",
    "    .option(\"header\", \"true\")\\\n",
    "    .load(\"/data/books/BX-Users.csv\")\n",
    "\n",
    "users_raw.printSchema()\n",
    "\n",
    "users = users_raw.select(\\\n",
    "    users_raw['User-ID'].cast('integer').alias('userId'),\\\n",
    "    users_raw['Age'].cast('integer').alias('age'),\\\n",
    ")\n",
    "users.printSchema()\n",
    "users.show(5)"
   ]
  },
  {
   "cell_type": "code",
   "execution_count": 8,
   "metadata": {},
   "outputs": [
    {
     "name": "stdout",
     "output_type": "stream",
     "text": [
      "root\n",
      " |-- User-ID: string (nullable = true)\n",
      " |-- ISBN: string (nullable = true)\n",
      " |-- Book-Rating: string (nullable = true)\n",
      "\n",
      "1149780\n",
      "root\n",
      " |-- userId: integer (nullable = true)\n",
      " |-- itemId: integer (nullable = true)\n",
      " |-- rating: integer (nullable = true)\n",
      "\n",
      "DataFrame[userId: int, itemId: int, rating: int]\n",
      "DataFrame[userId: bigint, itemId: bigint, rating: bigint]\n"
     ]
    }
   ],
   "source": [
    "ratings_raw = spark.read.format(\"csv\")\\\n",
    "    .option(\"sep\",\";\")\\\n",
    "    .option(\"header\", \"true\")\\\n",
    "    .load(\"/data/books/BX-Book-Ratings.csv\")\n",
    "\n",
    "ratings_raw.printSchema()\n",
    "print(ratings_raw.count())\n",
    "\n",
    "ratings = ratings_raw.select(\\\n",
    "    ratings_raw['User-ID'].cast('integer').alias('userId'),\\\n",
    "    ratings_raw['ISBN'].cast('integer').alias('itemId'),\\\n",
    "    ratings_raw['Book-Rating'].cast('integer').alias('rating'),\\\n",
    ")\n",
    "ratings.printSchema()\n",
    "\n",
    "ratings_filtered = ratings.rdd\\\n",
    "    .filter(lambda row: (row['userId'] is not None))\\\n",
    "    .filter(lambda row: (row['itemId'] is not None))\\\n",
    "    .filter(lambda row: (row['rating'] is not None))\\\n",
    "    .toDF()\n"
   ]
  },
  {
   "cell_type": "code",
   "execution_count": 9,
   "metadata": {},
   "outputs": [],
   "source": [
    "from pyspark.ml.recommendation import ALS\n",
    "\n",
    "als = ALS()\\\n",
    "    .setMaxIter(5)\\\n",
    "    .setRegParam(0.01)\\\n",
    "    .setUserCol(\"userId\")\\\n",
    "    .setItemCol(\"itemId\")\\\n",
    "    .setRatingCol(\"rating\")\n",
    "\n",
    "alsModel = als.fit(ratings_filtered)"
   ]
  },
  {
   "cell_type": "code",
   "execution_count": null,
   "metadata": {},
   "outputs": [],
   "source": []
  }
 ],
 "metadata": {
  "kernelspec": {
   "display_name": "Python 3",
   "language": "python",
   "name": "python3"
  },
  "language_info": {
   "codemirror_mode": {
    "name": "ipython",
    "version": 3
   },
   "file_extension": ".py",
   "mimetype": "text/x-python",
   "name": "python",
   "nbconvert_exporter": "python",
   "pygments_lexer": "ipython3",
   "version": "3.6.3"
  }
 },
 "nbformat": 4,
 "nbformat_minor": 2
}
