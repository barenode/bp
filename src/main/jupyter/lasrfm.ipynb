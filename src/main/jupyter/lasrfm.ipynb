{
 "cells": [
  {
   "cell_type": "code",
   "execution_count": 1,
   "metadata": {},
   "outputs": [
    {
     "name": "stdout",
     "output_type": "stream",
     "text": [
      "env: SPARK_HOME=/usr/hdp/current/spark2-client\n",
      "findspark initialized ...\n",
      "pyspark ready ...\n"
     ]
    }
   ],
   "source": [
    "%load_ext autoreload\n",
    "%env SPARK_HOME=/usr/hdp/current/spark2-client\n",
    "\n",
    "import findspark\n",
    "findspark.init()\n",
    "\n",
    "print('findspark initialized ...')\n",
    "\n",
    "import pyspark\n",
    "from pyspark.sql import SparkSession\n",
    "from pyspark.sql.functions import expr, col, column, max, min\n",
    "\n",
    "spark = SparkSession.builder.appName('mlonspark')\\\n",
    "    .config('spark.executor.instances', '6')\\\n",
    "    .config('spark.jars', '/opt/dev/target/ml-on-spark-1.0.jar')\\\n",
    "    .getOrCreate()\n",
    "\n",
    "print('pyspark ready ...')"
   ]
  },
  {
   "cell_type": "code",
   "execution_count": 2,
   "metadata": {},
   "outputs": [],
   "source": [
    "#rawData = spark.read.format('text').load(\"/data/lastfm/userid-timestamp-artid-artname-traid-traname.tsv\").rdd\n",
    "#rawData = rawData.repartition(6)\n",
    "#rawData.getNumPartitions()\n",
    "#rawData.toDF().write.format(\"text\").mode(\"overwrite\").save(\"/data/lastfm/lastfm-repartitioned.tst\")"
   ]
  },
  {
   "cell_type": "code",
   "execution_count": 3,
   "metadata": {},
   "outputs": [
    {
     "data": {
      "text/plain": [
       "20"
      ]
     },
     "execution_count": 3,
     "metadata": {},
     "output_type": "execute_result"
    }
   ],
   "source": [
    "rawData = spark.read.format('text').load(\"/data/lastfm/lastfm-repartitioned.tst\").rdd\n",
    "rawData.getNumPartitions()\n",
    "#rawData.count()"
   ]
  },
  {
   "cell_type": "code",
   "execution_count": 4,
   "metadata": {},
   "outputs": [
    {
     "data": {
      "text/plain": [
       "('user_000044', '2008-01-20T10:37:31Z', 'eace2373-31c8-4aba-9a5c-7bce22dd140a')"
      ]
     },
     "execution_count": 4,
     "metadata": {},
     "output_type": "execute_result"
    }
   ],
   "source": [
    "def parseLine(line) :\n",
    "    splits = line.value.split(\"\\t\")\n",
    "    return (splits[0], splits[1], splits[2])\n",
    "    \n",
    "parsed = rawData.map(parseLine)\n",
    "parsed.first()\n",
    "#parsed.count()"
   ]
  },
  {
   "cell_type": "code",
   "execution_count": 11,
   "metadata": {},
   "outputs": [],
   "source": [
    "users = parsed.map(lambda x: (x[0], x))\n",
    "users = users.groupByKey().map(lambda x: x[0]).zipWithIndex()\n",
    "users.toDF().write.mode(\"overwrite\").save(\"/data/lastfm/users.parquet\")"
   ]
  },
  {
   "cell_type": "code",
   "execution_count": 14,
   "metadata": {},
   "outputs": [
    {
     "data": {
      "text/plain": [
       "992"
      ]
     },
     "execution_count": 14,
     "metadata": {},
     "output_type": "execute_result"
    }
   ],
   "source": [
    "usersDF = spark.read.load(\"/data/lastfm/users.parquet\")\n",
    "usersDF.count()"
   ]
  },
  {
   "cell_type": "code",
   "execution_count": 12,
   "metadata": {},
   "outputs": [],
   "source": [
    "interprets = parsed.map(lambda x: (x[2], x))\n",
    "interprets = interprets.groupByKey().map(lambda x: x[0]).zipWithIndex()\n",
    "interprets.toDF().write.mode(\"overwrite\").save(\"/data/lastfm/interprets.parquet\")"
   ]
  },
  {
   "cell_type": "code",
   "execution_count": 13,
   "metadata": {},
   "outputs": [
    {
     "data": {
      "text/plain": [
       "107398"
      ]
     },
     "execution_count": 13,
     "metadata": {},
     "output_type": "execute_result"
    }
   ],
   "source": [
    "interpretsDF = spark.read.load(\"/data/lastfm/interprets.parquet\")\n",
    "interpretsDF.count()"
   ]
  },
  {
   "cell_type": "code",
   "execution_count": null,
   "metadata": {},
   "outputs": [],
   "source": []
  }
 ],
 "metadata": {
  "kernelspec": {
   "display_name": "Python 3",
   "language": "python",
   "name": "python3"
  },
  "language_info": {
   "codemirror_mode": {
    "name": "ipython",
    "version": 3
   },
   "file_extension": ".py",
   "mimetype": "text/x-python",
   "name": "python",
   "nbconvert_exporter": "python",
   "pygments_lexer": "ipython3",
   "version": "3.6.9"
  }
 },
 "nbformat": 4,
 "nbformat_minor": 4
}
