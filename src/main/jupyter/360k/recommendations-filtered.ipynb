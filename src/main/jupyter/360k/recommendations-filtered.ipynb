{
 "cells": [
  {
   "cell_type": "code",
   "execution_count": 1,
   "metadata": {},
   "outputs": [
    {
     "name": "stdout",
     "output_type": "stream",
     "text": [
      "env: SPARK_HOME=/usr/hdp/current/spark2-client\n",
      "findspark initialized ...\n",
      "pyspark ready ...\n"
     ]
    }
   ],
   "source": [
    "%load_ext autoreload\n",
    "%env SPARK_HOME=/usr/hdp/current/spark2-client\n",
    "\n",
    "import findspark\n",
    "findspark.init()\n",
    "\n",
    "print('findspark initialized ...')\n",
    "\n",
    "import pyspark\n",
    "from pyspark.sql import SparkSession\n",
    "from pyspark.sql.functions import expr, col, column, max, min\n",
    "\n",
    "spark = SparkSession.builder.appName('mlonspark')\\\n",
    "    .config('spark.executor.instances', '7')\\\n",
    "    .getOrCreate()\n",
    "\n",
    "print('pyspark ready ...')"
   ]
  },
  {
   "cell_type": "code",
   "execution_count": 2,
   "metadata": {},
   "outputs": [],
   "source": [
    "df = spark.read.load(\"/data/lastfm-dataset-360K/data-filtered.parquet\")"
   ]
  },
  {
   "cell_type": "code",
   "execution_count": 22,
   "metadata": {},
   "outputs": [
    {
     "name": "stdout",
     "output_type": "stream",
     "text": [
      "+--------------------+\n",
      "|          artistName|\n",
      "+--------------------+\n",
      "|   infected mushroom|\n",
      "|      chase & status|\n",
      "|       high contrast|\n",
      "|            syncopix|\n",
      "|           aphrodite|\n",
      "|          stereo mcs|\n",
      "|          underworld|\n",
      "|bachelors of science|\n",
      "|  london elektricity|\n",
      "|                  tc|\n",
      "+--------------------+\n",
      "only showing top 10 rows\n",
      "\n"
     ]
    }
   ],
   "source": [
    "dforig = spark.read.load(\"/data/lastfm-dataset-360K/data-raw.parquet\")\n",
    "dforig.filter(dforig.userHash==\"f37640d943bf48a0ae42058733dd18e48d66f337\")\\\n",
    "    .select(dforig.artistName)\\\n",
    "    .show(10)"
   ]
  },
  {
   "cell_type": "code",
   "execution_count": 4,
   "metadata": {},
   "outputs": [
    {
     "name": "stdout",
     "output_type": "stream",
     "text": [
      "+--------------------+------+\n",
      "|            userHash|userId|\n",
      "+--------------------+------+\n",
      "|f37640d943bf48a0a...| 54113|\n",
      "+--------------------+------+\n",
      "\n"
     ]
    }
   ],
   "source": [
    "users = spark.read.load(\"/data/lastfm-dataset-360K/users.parquet\")\n",
    "users.filter(users.userHash==\"f37640d943bf48a0ae42058733dd18e48d66f337\").show()\n",
    "artists = spark.read.load(\"/data/lastfm-dataset-360K/artists.parquet\")"
   ]
  },
  {
   "cell_type": "code",
   "execution_count": 6,
   "metadata": {},
   "outputs": [],
   "source": [
    "from mlonspark import AlternatingLeastSquare\n",
    "alg = AlternatingLeastSquare()\\\n",
    "    .setUserCol(\"userId\")\\\n",
    "    .setItemCol(\"artists-artistId\")\\\n",
    "    .setRatingCol(\"listenCount\")\\\n",
    "    .setRank(25)\\\n",
    "    .setRegParam(0.0)\\\n",
    "    .setAlpha(10.0)\\\n",
    "    .setImplicitPrefs(True)\n",
    "\n",
    "model = alg.fit(df)"
   ]
  },
  {
   "cell_type": "code",
   "execution_count": 7,
   "metadata": {},
   "outputs": [
    {
     "name": "stdout",
     "output_type": "stream",
     "text": [
      "RMSE = 213.865507\n"
     ]
    }
   ],
   "source": [
    "from pyspark.ml.evaluation import RegressionEvaluator\n",
    "from pyspark.sql.functions import isnan\n",
    "evaluator = RegressionEvaluator()\\\n",
    "    .setMetricName(\"rmse\")\\\n",
    "    .setLabelCol(\"listenCount\")\\\n",
    "    .setPredictionCol(\"prediction\")\n",
    "\n",
    "predictions = model.transform(df)\n",
    "predictionsFiltered = predictions.where(~isnan(col(\"prediction\")))  \n",
    "rmse = evaluator.evaluate(predictionsFiltered)\n",
    "\n",
    "print(\"RMSE = %f\" % rmse)"
   ]
  },
  {
   "cell_type": "code",
   "execution_count": 8,
   "metadata": {},
   "outputs": [],
   "source": [
    "dfSingleUser = df.filter(df.userId==54113)"
   ]
  },
  {
   "cell_type": "code",
   "execution_count": 9,
   "metadata": {},
   "outputs": [],
   "source": [
    "recommendations = model.recommendForUserSubset(dfSingleUser, 10)"
   ]
  },
  {
   "cell_type": "code",
   "execution_count": 12,
   "metadata": {},
   "outputs": [
    {
     "name": "stdout",
     "output_type": "stream",
     "text": [
      "root\n",
      " |-- userId: integer (nullable = false)\n",
      " |-- recommendations: array (nullable = true)\n",
      " |    |-- element: struct (containsNull = true)\n",
      " |    |    |-- artists-artistId: integer (nullable = true)\n",
      " |    |    |-- rating: float (nullable = true)\n",
      "\n"
     ]
    }
   ],
   "source": [
    "recommendations.printSchema()"
   ]
  },
  {
   "cell_type": "code",
   "execution_count": 18,
   "metadata": {},
   "outputs": [],
   "source": [
    "recs = recommendations.rdd.flatMap(lambda v: v.recommendations).toDF()\\\n",
    "    .withColumnRenamed(\"artists-artistId\", \"artistId\")"
   ]
  },
  {
   "cell_type": "code",
   "execution_count": 20,
   "metadata": {},
   "outputs": [
    {
     "name": "stdout",
     "output_type": "stream",
     "text": [
      "+------------------+\n",
      "|        artistName|\n",
      "+------------------+\n",
      "|         logistics|\n",
      "|   1200 micrograms|\n",
      "|     high contrast|\n",
      "|            john b|\n",
      "|      concord dawn|\n",
      "|london elektricity|\n",
      "|             klute|\n",
      "|         aphrodite|\n",
      "|          dj fresh|\n",
      "|         ltj bukem|\n",
      "+------------------+\n",
      "\n"
     ]
    }
   ],
   "source": [
    "recsFinal = recs\\\n",
    "    .join(artists, recs.artistId==artists.artistId, 'inner')\\\n",
    "    .select(artists.artistName)\n",
    "\n",
    "recsFinal.show()"
   ]
  },
  {
   "cell_type": "code",
   "execution_count": null,
   "metadata": {},
   "outputs": [],
   "source": []
  }
 ],
 "metadata": {
  "kernelspec": {
   "display_name": "Python 3",
   "language": "python",
   "name": "python3"
  },
  "language_info": {
   "codemirror_mode": {
    "name": "ipython",
    "version": 3
   },
   "file_extension": ".py",
   "mimetype": "text/x-python",
   "name": "python",
   "nbconvert_exporter": "python",
   "pygments_lexer": "ipython3",
   "version": "3.6.9"
  }
 },
 "nbformat": 4,
 "nbformat_minor": 4
}
