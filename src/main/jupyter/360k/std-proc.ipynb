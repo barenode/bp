{
 "cells": [
  {
   "cell_type": "code",
   "execution_count": 18,
   "metadata": {},
   "outputs": [
    {
     "name": "stdout",
     "output_type": "stream",
     "text": [
      "The autoreload extension is already loaded. To reload it, use:\n",
      "  %reload_ext autoreload\n",
      "env: SPARK_HOME=/usr/hdp/current/spark2-client\n",
      "findspark initialized ...\n",
      "pyspark ready ...\n"
     ]
    }
   ],
   "source": [
    "%load_ext autoreload\n",
    "%env SPARK_HOME=/usr/hdp/current/spark2-client\n",
    "\n",
    "import findspark\n",
    "findspark.init()\n",
    "\n",
    "print('findspark initialized ...')\n",
    "\n",
    "import pyspark\n",
    "from pyspark.sql import SparkSession\n",
    "from pyspark.sql.functions import expr, col, column, max, min\n",
    "\n",
    "spark = SparkSession.builder.appName('mlonspark')\\\n",
    "    .config('spark.executor.instances', '7')\\\n",
    "    .getOrCreate()\n",
    "\n",
    "print('pyspark ready ...')"
   ]
  },
  {
   "cell_type": "code",
   "execution_count": 19,
   "metadata": {},
   "outputs": [
    {
     "name": "stdout",
     "output_type": "stream",
     "text": [
      "root\n",
      " |-- userId: integer (nullable = true)\n",
      " |-- artistId: integer (nullable = true)\n",
      " |-- listenCount: float (nullable = true)\n",
      "\n"
     ]
    }
   ],
   "source": [
    "df = spark.read.load(\"/data/lastfm-dataset-360K/coo-data.parquet\")\n",
    "df.printSchema()"
   ]
  },
  {
   "cell_type": "code",
   "execution_count": 20,
   "metadata": {},
   "outputs": [
    {
     "data": {
      "text/plain": [
       "[6.0, 755.0]"
      ]
     },
     "execution_count": 20,
     "metadata": {},
     "output_type": "execute_result"
    }
   ],
   "source": [
    "from pyspark.sql import DataFrameStatFunctions as statFunc\n",
    "quantiles = statFunc(df).approxQuantile(\"listenCount\", [0.05, 0.95], 0.001)\n",
    "quantiles"
   ]
  },
  {
   "cell_type": "code",
   "execution_count": 21,
   "metadata": {},
   "outputs": [
    {
     "data": {
      "text/plain": [
       "15704882"
      ]
     },
     "execution_count": 21,
     "metadata": {},
     "output_type": "execute_result"
    }
   ],
   "source": [
    "dfFiltered = df.where(col(\"listenCount\") > quantiles[0]).where(col(\"listenCount\") < quantiles[1])\n",
    "dfFiltered.count()   "
   ]
  },
  {
   "cell_type": "code",
   "execution_count": 22,
   "metadata": {},
   "outputs": [],
   "source": [
    "mean = dfFiltered.select(avg(\"listenCount\")).collect()[0][0]\n",
    "stdDev = dfFiltered.select(stddev(\"listenCount\")).collect()[0][0]\n",
    "\n",
    "def zscore(listenCount, **model_kargs):\n",
    "    return (listenCount - mean)/stdDev\n",
    "    \n",
    "dfStd = dfFiltered.withColumn(\"stdCount\", zscore(dfFiltered.listenCount))"
   ]
  },
  {
   "cell_type": "code",
   "execution_count": 23,
   "metadata": {},
   "outputs": [
    {
     "name": "stdout",
     "output_type": "stream",
     "text": [
      "+-------------------+\n",
      "|      min(stdCount)|\n",
      "+-------------------+\n",
      "|-0.9370185692150685|\n",
      "+-------------------+\n",
      "\n",
      "0.9370185692150685\n"
     ]
    }
   ],
   "source": [
    "dfStd.select(min(\"stdCount\")).show()\n",
    "stdMin = dfStd.select(min(\"stdCount\")).collect()[0][0]\n",
    "stdMin\n",
    "\n",
    "absStdMin = abs(stdMin)\n",
    "print(absStdMin)\n",
    "\n",
    "def shift(stdCount, **model_kargs):\n",
    "    return stdCount + absStdMin\n",
    "\n",
    "dfStdPos = dfStd.withColumn(\"stdCountPos\", shift(dfStd.stdCount))"
   ]
  },
  {
   "cell_type": "code",
   "execution_count": 24,
   "metadata": {},
   "outputs": [
    {
     "name": "stdout",
     "output_type": "stream",
     "text": [
      "+----------------+-----------------+------------------+---------------------+------------------------+---------------------+---------------------+\n",
      "|min(stdCountPos)| max(stdCountPos)|  avg(stdCountPos)|var_samp(stdCountPos)|stddev_samp(stdCountPos)|skewness(stdCountPos)|kurtosis(stdCountPos)|\n",
      "+----------------+-----------------+------------------+---------------------+------------------------+---------------------+---------------------+\n",
      "|             0.0|4.898816629880709|0.9370185692149076|   1.0000000000000246|      1.0000000000000122|    1.643280216705236|   2.4117649777425028|\n",
      "+----------------+-----------------+------------------+---------------------+------------------------+---------------------+---------------------+\n",
      "\n"
     ]
    }
   ],
   "source": [
    "dfStdPos.select(\\\n",
    "    min(\"stdCountPos\"),\\\n",
    "    max(\"stdCountPos\"),\\\n",
    "    avg(\"stdCountPos\"),\\\n",
    "    variance(\"stdCountPos\"),\\\n",
    "    stddev(\"stdCountPos\"),\\\n",
    "    skewness(\"stdCountPos\"),\\\n",
    "    kurtosis(\"stdCountPos\")\\\n",
    ").show()"
   ]
  },
  {
   "cell_type": "code",
   "execution_count": null,
   "metadata": {},
   "outputs": [],
   "source": []
  }
 ],
 "metadata": {
  "kernelspec": {
   "display_name": "Python 3",
   "language": "python",
   "name": "python3"
  },
  "language_info": {
   "codemirror_mode": {
    "name": "ipython",
    "version": 3
   },
   "file_extension": ".py",
   "mimetype": "text/x-python",
   "name": "python",
   "nbconvert_exporter": "python",
   "pygments_lexer": "ipython3",
   "version": "3.6.9"
  }
 },
 "nbformat": 4,
 "nbformat_minor": 4
}
