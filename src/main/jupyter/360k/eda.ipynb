{
 "cells": [
  {
   "cell_type": "code",
   "execution_count": 2,
   "metadata": {},
   "outputs": [
    {
     "name": "stdout",
     "output_type": "stream",
     "text": [
      "env: SPARK_HOME=/usr/hdp/current/spark2-client\n",
      "findspark initialized ...\n",
      "pyspark ready ...\n"
     ]
    }
   ],
   "source": [
    "%load_ext autoreload\n",
    "%env SPARK_HOME=/usr/hdp/current/spark2-client\n",
    "\n",
    "import findspark\n",
    "findspark.init()\n",
    "\n",
    "print('findspark initialized ...')\n",
    "\n",
    "import pyspark\n",
    "from pyspark.sql import SparkSession\n",
    "from pyspark.sql.functions import expr, col, column, max, min\n",
    "\n",
    "spark = SparkSession.builder.appName('mlonspark')\\\n",
    "    .config('spark.executor.instances', '7')\\\n",
    "    .getOrCreate()\n",
    "\n",
    "print('pyspark ready ...')"
   ]
  },
  {
   "cell_type": "code",
   "execution_count": 2,
   "metadata": {},
   "outputs": [
    {
     "name": "stdout",
     "output_type": "stream",
     "text": [
      "root\n",
      " |-- userId: integer (nullable = true)\n",
      " |-- artistId: integer (nullable = true)\n",
      " |-- listenCount: float (nullable = true)\n",
      "\n"
     ]
    }
   ],
   "source": [
    "df = spark.read.load(\"/data/lastfm-dataset-360K/coo-data.parquet\")\n",
    "df.printSchema()"
   ]
  },
  {
   "cell_type": "code",
   "execution_count": 3,
   "metadata": {},
   "outputs": [
    {
     "name": "stdout",
     "output_type": "stream",
     "text": [
      "pocet hodnoceni = 1\n"
     ]
    }
   ],
   "source": [
    "print(\"pocet hodnoceni = %d\" % df.where(col(\"listenCount\") == 0).count())"
   ]
  },
  {
   "cell_type": "code",
   "execution_count": 26,
   "metadata": {},
   "outputs": [],
   "source": [
    "from pyspark.sql.functions import min, max, avg"
   ]
  },
  {
   "cell_type": "code",
   "execution_count": 5,
   "metadata": {},
   "outputs": [
    {
     "name": "stdout",
     "output_type": "stream",
     "text": [
      "+----------------+----------------+------------------+\n",
      "|min(listenCount)|max(listenCount)|  avg(listenCount)|\n",
      "+----------------+----------------+------------------+\n",
      "|             0.0|        419157.0|215.18530888924704|\n",
      "+----------------+----------------+------------------+\n",
      "\n"
     ]
    }
   ],
   "source": [
    "df.select(min(\"listenCount\"), max(\"listenCount\"), avg(\"listenCount\")).show()"
   ]
  },
  {
   "cell_type": "code",
   "execution_count": 6,
   "metadata": {},
   "outputs": [
    {
     "data": {
      "text/plain": [
       "[6.0, 751.0]"
      ]
     },
     "execution_count": 6,
     "metadata": {},
     "output_type": "execute_result"
    }
   ],
   "source": [
    "from pyspark.sql import DataFrameStatFunctions as statFunc\n",
    "statFunc(df).approxQuantile(\"listenCount\", [0.05, 0.95], 0.001)"
   ]
  },
  {
   "cell_type": "code",
   "execution_count": 24,
   "metadata": {},
   "outputs": [],
   "source": [
    "from pyspark.sql.functions import variance, stddev"
   ]
  },
  {
   "cell_type": "code",
   "execution_count": 8,
   "metadata": {},
   "outputs": [
    {
     "name": "stdout",
     "output_type": "stream",
     "text": [
      "+---------------------+------------------------+\n",
      "|var_samp(listenCount)|stddev_samp(listenCount)|\n",
      "+---------------------+------------------------+\n",
      "|   377546.06402379216|       614.4477715996634|\n",
      "+---------------------+------------------------+\n",
      "\n"
     ]
    }
   ],
   "source": [
    "df.select(variance(\"listenCount\"), stddev(\"listenCount\")).show()"
   ]
  },
  {
   "cell_type": "code",
   "execution_count": 9,
   "metadata": {},
   "outputs": [],
   "source": [
    "from pyspark.sql.functions import skewness, kurtosis"
   ]
  },
  {
   "cell_type": "code",
   "execution_count": 10,
   "metadata": {},
   "outputs": [
    {
     "name": "stdout",
     "output_type": "stream",
     "text": [
      "+---------------------+---------------------+\n",
      "|skewness(listenCount)|kurtosis(listenCount)|\n",
      "+---------------------+---------------------+\n",
      "|     91.8743943004365|   30874.361647353086|\n",
      "+---------------------+---------------------+\n",
      "\n"
     ]
    }
   ],
   "source": [
    "df.select(skewness(\"listenCount\"), kurtosis(\"listenCount\")).show()"
   ]
  },
  {
   "cell_type": "code",
   "execution_count": 11,
   "metadata": {},
   "outputs": [],
   "source": [
    "%matplotlib inline\n",
    "import matplotlib as mpl\n",
    "import matplotlib.pyplot as plt\n",
    "\n",
    "def plot_hist(dataframe, **model_kargs):    \n",
    "    rdd = dataframe.select(\"listenCount\").rdd.map(lambda v : v[0])\n",
    "    histRdd = rdd.histogram(100)\n",
    "    plt.figure(figsize=(16,4))\n",
    "    plt.plot(histRdd[0][1:], histRdd[1], \"g-\", linewidth=2)\n",
    "    plt.ylabel(\"počet hodnocení\", fontsize=18)\n",
    "    plt.xlabel(\"počet poslechů\", fontsize=18)"
   ]
  },
  {
   "cell_type": "code",
   "execution_count": 12,
   "metadata": {},
   "outputs": [
    {
     "data": {
      "image/png": "[encoded data removed]",
      "text/plain": [
       "<Figure size 1152x288 with 1 Axes>"
      ]
     },
     "metadata": {
      "needs_background": "light"
     },
     "output_type": "display_data"
    }
   ],
   "source": [
    "plot_hist(df)"
   ]
  },
  {
   "cell_type": "code",
   "execution_count": 13,
   "metadata": {},
   "outputs": [
    {
     "data": {
      "text/plain": [
       "[6.0, 751.0]"
      ]
     },
     "execution_count": 13,
     "metadata": {},
     "output_type": "execute_result"
    }
   ],
   "source": [
    "from pyspark.sql import DataFrameStatFunctions as statFunc\n",
    "quantiles = statFunc(df).approxQuantile(\"listenCount\", [0.05, 0.95], 0.001)\n",
    "quantiles"
   ]
  },
  {
   "cell_type": "code",
   "execution_count": 14,
   "metadata": {},
   "outputs": [
    {
     "data": {
      "text/plain": [
       "15697593"
      ]
     },
     "execution_count": 14,
     "metadata": {},
     "output_type": "execute_result"
    }
   ],
   "source": [
    "dfFiltered = df.where(col(\"listenCount\") > quantiles[0]).where(col(\"listenCount\") < quantiles[1])\n",
    "dfFiltered.count()                                                                                      "
   ]
  },
  {
   "cell_type": "code",
   "execution_count": 15,
   "metadata": {},
   "outputs": [
    {
     "data": {
      "image/png": "[encoded data removed]",
      "text/plain": [
       "<Figure size 1152x288 with 1 Axes>"
      ]
     },
     "metadata": {
      "needs_background": "light"
     },
     "output_type": "display_data"
    }
   ],
   "source": [
    "plot_hist(dfFiltered)"
   ]
  },
  {
   "cell_type": "code",
   "execution_count": 16,
   "metadata": {},
   "outputs": [],
   "source": [
    "train, test = dfFiltered.randomSplit([0.7, 0.3])\n",
    "train.write.mode(\"overwrite\").save(\"/data/lastfm-dataset-360K/data-filtered-train.parquet\")\n",
    "test.write.mode(\"overwrite\").save(\"/data/lastfm-dataset-360K/data-filtered-test.parquet\")"
   ]
  },
  {
   "cell_type": "code",
   "execution_count": 17,
   "metadata": {},
   "outputs": [
    {
     "name": "stdout",
     "output_type": "stream",
     "text": [
      "+----------------+----------------+-----------------+\n",
      "|min(listenCount)|max(listenCount)| avg(listenCount)|\n",
      "+----------------+----------------+-----------------+\n",
      "|             7.0|           750.0|149.6022127723658|\n",
      "+----------------+----------------+-----------------+\n",
      "\n",
      "+---------------------+------------------------+\n",
      "|var_samp(listenCount)|stddev_samp(listenCount)|\n",
      "+---------------------+------------------------+\n",
      "|    23094.01524618548|      151.96715186574195|\n",
      "+---------------------+------------------------+\n",
      "\n"
     ]
    }
   ],
   "source": [
    "dfFiltered.select(min(\"listenCount\"), max(\"listenCount\"), avg(\"listenCount\")).show()\n",
    "dfFiltered.select(variance(\"listenCount\"), stddev(\"listenCount\")).show()"
   ]
  },
  {
   "cell_type": "code",
   "execution_count": 33,
   "metadata": {},
   "outputs": [],
   "source": [
    "mean = dfFiltered.select(avg(\"listenCount\")).collect()[0][0]\n",
    "stdDev = dfFiltered.select(stddev(\"listenCount\")).collect()[0][0]\n",
    "\n",
    "def zscore(listenCount, **model_kargs):\n",
    "    return (listenCount - mean)/stdDev\n",
    "    \n",
    "dfStd = dfFiltered.withColumn(\"stdCount\", zscore(dfFiltered.listenCount))"
   ]
  },
  {
   "cell_type": "code",
   "execution_count": 34,
   "metadata": {},
   "outputs": [
    {
     "name": "stdout",
     "output_type": "stream",
     "text": [
      "+------+--------+-----------+--------------------+\n",
      "|userId|artistId|listenCount|            stdCount|\n",
      "+------+--------+-----------+--------------------+\n",
      "|352323|   65907|       43.0| -0.7014819417458411|\n",
      "| 68672|   65867|        8.0| -0.9317948716803401|\n",
      "|108444|   65785|       31.0| -0.7804463748662408|\n",
      "| 33557|   65741|      135.0|-0.09608795448944368|\n",
      "|322776|   65741|      130.0|-0.12898980162294355|\n",
      "| 12766|   64702|       55.0| -0.6225175086254414|\n",
      "| 25985|   64702|       79.0|-0.46458864238464215|\n",
      "| 66280|   64702|       75.0|  -0.490910120091442|\n",
      "| 87701|   64702|       35.0| -0.7541248971594409|\n",
      "|130003|   64702|       26.0| -0.8133482219997407|\n",
      "+------+--------+-----------+--------------------+\n",
      "only showing top 10 rows\n",
      "\n"
     ]
    }
   ],
   "source": [
    "dfStd.show(10)\n",
    "dfStd.write.mode(\"overwrite\").save(\"/data/lastfm-dataset-360K/data-filtered-std.parquet\")"
   ]
  },
  {
   "cell_type": "code",
   "execution_count": 3,
   "metadata": {},
   "outputs": [
    {
     "name": "stdout",
     "output_type": "stream",
     "text": [
      "root\n",
      " |-- userId: integer (nullable = true)\n",
      " |-- artistId: integer (nullable = true)\n",
      " |-- listenCount: float (nullable = true)\n",
      " |-- stdCount: double (nullable = true)\n",
      "\n"
     ]
    }
   ],
   "source": [
    "dfStd = spark.read.load(\"/data/lastfm-dataset-360K/data-filtered-std.parquet\")\n",
    "dfStd.printSchema()"
   ]
  },
  {
   "cell_type": "code",
   "execution_count": 4,
   "metadata": {},
   "outputs": [
    {
     "name": "stdout",
     "output_type": "stream",
     "text": [
      "+-------------------+\n",
      "|      min(stdCount)|\n",
      "+-------------------+\n",
      "|-0.9383752411070402|\n",
      "+-------------------+\n",
      "\n"
     ]
    },
    {
     "data": {
      "text/plain": [
       "-0.9383752411070402"
      ]
     },
     "execution_count": 4,
     "metadata": {},
     "output_type": "execute_result"
    }
   ],
   "source": [
    "dfStd.select(min(\"stdCount\")).show()\n",
    "stdMin = dfStd.select(min(\"stdCount\")).collect()[0][0]\n",
    "stdMin"
   ]
  },
  {
   "cell_type": "code",
   "execution_count": 6,
   "metadata": {},
   "outputs": [
    {
     "name": "stdout",
     "output_type": "stream",
     "text": [
      "+------------------+---------------------+\n",
      "|var_samp(stdCount)|stddev_samp(stdCount)|\n",
      "+------------------+---------------------+\n",
      "|1.0000000000000553|   1.0000000000000275|\n",
      "+------------------+---------------------+\n",
      "\n"
     ]
    }
   ],
   "source": [
    "from pyspark.sql.functions import variance, stddev\n",
    "dfStd.select(variance(\"stdCount\"), stddev(\"stdCount\")).show()"
   ]
  },
  {
   "cell_type": "code",
   "execution_count": 7,
   "metadata": {},
   "outputs": [
    {
     "name": "stdout",
     "output_type": "stream",
     "text": [
      "0.9383752411070402\n",
      "+------+--------+-----------+--------------------+--------------------+\n",
      "|userId|artistId|listenCount|            stdCount|         stdCountPos|\n",
      "+------+--------+-----------+--------------------+--------------------+\n",
      "|352323|   65907|       43.0| -0.7014819417458411| 0.23689329936119907|\n",
      "| 68672|   65867|        8.0| -0.9317948716803401|0.006580369426700039|\n",
      "|108444|   65785|       31.0| -0.7804463748662408| 0.15792886624079938|\n",
      "| 33557|   65741|      135.0|-0.09608795448944368|  0.8422872866175966|\n",
      "|322776|   65741|      130.0|-0.12898980162294355|  0.8093854394840967|\n",
      "| 12766|   64702|       55.0| -0.6225175086254414| 0.31585773248159876|\n",
      "| 25985|   64702|       79.0|-0.46458864238464215| 0.47378659872239803|\n",
      "| 66280|   64702|       75.0|  -0.490910120091442| 0.44746512101559816|\n",
      "| 87701|   64702|       35.0| -0.7541248971594409| 0.18425034394759932|\n",
      "|130003|   64702|       26.0| -0.8133482219997407| 0.12502701910729952|\n",
      "+------+--------+-----------+--------------------+--------------------+\n",
      "only showing top 10 rows\n",
      "\n"
     ]
    }
   ],
   "source": [
    "absStdMin = abs(stdMin)\n",
    "print(absStdMin)\n",
    "\n",
    "def shift(stdCount, **model_kargs):\n",
    "    return stdCount + absStdMin\n",
    "\n",
    "dfStdPos = dfStd.withColumn(\"stdCountPos\", shift(dfStd.stdCount))\n",
    "dfStdPos.show(10)\n",
    "dfStdPos.write.mode(\"overwrite\").save(\"/data/lastfm-dataset-360K/data-filtered-std-pos.parquet\")"
   ]
  },
  {
   "cell_type": "code",
   "execution_count": 8,
   "metadata": {},
   "outputs": [],
   "source": [
    "train, test = dfStdPos.randomSplit([0.7, 0.3])\n",
    "\n",
    "train.write.mode(\"overwrite\").save(\"/data/lastfm-dataset-360K/data-filtered-std-pos-train.parquet\")\n",
    "test.write.mode(\"overwrite\").save(\"/data/lastfm-dataset-360K/data-filtered-std-pos-test.parquet\")"
   ]
  },
  {
   "cell_type": "code",
   "execution_count": null,
   "metadata": {},
   "outputs": [],
   "source": []
  }
 ],
 "metadata": {
  "kernelspec": {
   "display_name": "Python 3",
   "language": "python",
   "name": "python3"
  },
  "language_info": {
   "codemirror_mode": {
    "name": "ipython",
    "version": 3
   },
   "file_extension": ".py",
   "mimetype": "text/x-python",
   "name": "python",
   "nbconvert_exporter": "python",
   "pygments_lexer": "ipython3",
   "version": "3.6.9"
  }
 },
 "nbformat": 4,
 "nbformat_minor": 4
}
