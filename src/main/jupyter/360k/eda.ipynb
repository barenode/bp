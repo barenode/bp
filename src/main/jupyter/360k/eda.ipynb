{
 "cells": [
  {
   "cell_type": "code",
   "execution_count": 1,
   "metadata": {},
   "outputs": [
    {
     "name": "stdout",
     "output_type": "stream",
     "text": [
      "env: SPARK_HOME=/usr/hdp/current/spark2-client\n",
      "findspark initialized ...\n",
      "pyspark ready ...\n"
     ]
    }
   ],
   "source": [
    "%load_ext autoreload\n",
    "%env SPARK_HOME=/usr/hdp/current/spark2-client\n",
    "\n",
    "import findspark\n",
    "findspark.init()\n",
    "\n",
    "print('findspark initialized ...')\n",
    "\n",
    "import pyspark\n",
    "from pyspark.sql import SparkSession\n",
    "from pyspark.sql.functions import expr, col, column, max, min\n",
    "\n",
    "spark = SparkSession.builder.appName('mlonspark')\\\n",
    "    .config('spark.executor.instances', '7')\\\n",
    "    .getOrCreate()\n",
    "\n",
    "print('pyspark ready ...')"
   ]
  },
  {
   "cell_type": "code",
   "execution_count": 2,
   "metadata": {},
   "outputs": [
    {
     "name": "stdout",
     "output_type": "stream",
     "text": [
      "root\n",
      " |-- userHash: string (nullable = true)\n",
      " |-- artistName: string (nullable = true)\n",
      " |-- userId: integer (nullable = true)\n",
      " |-- users-userHash: string (nullable = true)\n",
      " |-- artists-artistId: integer (nullable = true)\n",
      " |-- artists-artistName: string (nullable = true)\n",
      " |-- listenCount: float (nullable = true)\n",
      "\n"
     ]
    }
   ],
   "source": [
    "df = spark.read.load(\"/data/lastfm-dataset-360K/data-final.parquet\")\n",
    "df.printSchema()"
   ]
  },
  {
   "cell_type": "code",
   "execution_count": 3,
   "metadata": {},
   "outputs": [
    {
     "name": "stdout",
     "output_type": "stream",
     "text": [
      "pocet hodnoceni = 1\n"
     ]
    }
   ],
   "source": [
    "print(\"pocet hodnoceni = %d\" % df.where(col(\"listenCount\") == 0).count())"
   ]
  },
  {
   "cell_type": "code",
   "execution_count": 4,
   "metadata": {},
   "outputs": [],
   "source": [
    "from pyspark.sql.functions import min, max, avg"
   ]
  },
  {
   "cell_type": "code",
   "execution_count": 5,
   "metadata": {},
   "outputs": [
    {
     "name": "stdout",
     "output_type": "stream",
     "text": [
      "+----------------+----------------+------------------+\n",
      "|min(listenCount)|max(listenCount)|  avg(listenCount)|\n",
      "+----------------+----------------+------------------+\n",
      "|             0.0|        419157.0|215.18544093128762|\n",
      "+----------------+----------------+------------------+\n",
      "\n"
     ]
    }
   ],
   "source": [
    "df.select(min(\"listenCount\"), max(\"listenCount\"), avg(\"listenCount\")).show()"
   ]
  },
  {
   "cell_type": "code",
   "execution_count": 6,
   "metadata": {},
   "outputs": [
    {
     "data": {
      "text/plain": [
       "[6.0, 760.0]"
      ]
     },
     "execution_count": 6,
     "metadata": {},
     "output_type": "execute_result"
    }
   ],
   "source": [
    "from pyspark.sql import DataFrameStatFunctions as statFunc\n",
    "statFunc(df).approxQuantile(\"listenCount\", [0.05, 0.95], 0.001)"
   ]
  },
  {
   "cell_type": "code",
   "execution_count": 7,
   "metadata": {},
   "outputs": [],
   "source": [
    "from pyspark.sql.functions import variance, stddev"
   ]
  },
  {
   "cell_type": "code",
   "execution_count": 8,
   "metadata": {},
   "outputs": [
    {
     "name": "stdout",
     "output_type": "stream",
     "text": [
      "+---------------------+------------------------+\n",
      "|var_samp(listenCount)|stddev_samp(listenCount)|\n",
      "+---------------------+------------------------+\n",
      "|   377546.34187644144|       614.4479976991067|\n",
      "+---------------------+------------------------+\n",
      "\n"
     ]
    }
   ],
   "source": [
    "df.select(variance(\"listenCount\"), stddev(\"listenCount\")).show()"
   ]
  },
  {
   "cell_type": "code",
   "execution_count": 9,
   "metadata": {},
   "outputs": [],
   "source": [
    "from pyspark.sql.functions import skewness, kurtosis"
   ]
  },
  {
   "cell_type": "code",
   "execution_count": 10,
   "metadata": {},
   "outputs": [
    {
     "name": "stdout",
     "output_type": "stream",
     "text": [
      "+---------------------+---------------------+\n",
      "|skewness(listenCount)|kurtosis(listenCount)|\n",
      "+---------------------+---------------------+\n",
      "|     91.8743655028596|   30874.340738570303|\n",
      "+---------------------+---------------------+\n",
      "\n"
     ]
    }
   ],
   "source": [
    "df.select(skewness(\"listenCount\"), kurtosis(\"listenCount\")).show()"
   ]
  },
  {
   "cell_type": "code",
   "execution_count": 11,
   "metadata": {},
   "outputs": [],
   "source": [
    "%matplotlib inline\n",
    "import matplotlib as mpl\n",
    "import matplotlib.pyplot as plt\n",
    "\n",
    "def plot_hist(dataframe, **model_kargs):    \n",
    "    rdd = dataframe.select(\"listenCount\").rdd.map(lambda v : v[0])\n",
    "    histRdd = rdd.histogram(100)\n",
    "    plt.figure(figsize=(16,4))\n",
    "    plt.plot(histRdd[0][1:], histRdd[1], \"g-\", linewidth=2)\n",
    "    plt.ylabel(\"počet hodnocení\", fontsize=18)\n",
    "    plt.xlabel(\"počet poslechů\", fontsize=18)"
   ]
  },
  {
   "cell_type": "code",
   "execution_count": 12,
   "metadata": {},
   "outputs": [
    {
     "data": {
      "image/png": "[encoded data removed]",
      "text/plain": [
       "<Figure size 1152x288 with 1 Axes>"
      ]
     },
     "metadata": {
      "needs_background": "light"
     },
     "output_type": "display_data"
    }
   ],
   "source": [
    "plot_hist(df)"
   ]
  },
  {
   "cell_type": "code",
   "execution_count": 13,
   "metadata": {},
   "outputs": [
    {
     "data": {
      "text/plain": [
       "[6.0, 760.0]"
      ]
     },
     "execution_count": 13,
     "metadata": {},
     "output_type": "execute_result"
    }
   ],
   "source": [
    "from pyspark.sql import DataFrameStatFunctions as statFunc\n",
    "quantiles = statFunc(df).approxQuantile(\"listenCount\", [0.05, 0.95], 0.001)\n",
    "quantiles"
   ]
  },
  {
   "cell_type": "code",
   "execution_count": 14,
   "metadata": {},
   "outputs": [],
   "source": [
    "dfFiltered = df.where(col(\"listenCount\") > quantiles[0]).where(col(\"listenCount\") < quantiles[1])\n",
    "dfFiltered.count()                                                                                      \n",
    "dfFiltered.write.mode(\"overwrite\").save(\"/data/lastfm-dataset-360K/data-filtered.parquet\")"
   ]
  },
  {
   "cell_type": "code",
   "execution_count": 15,
   "metadata": {},
   "outputs": [
    {
     "data": {
      "image/png": "[encoded data removed]",
      "text/plain": [
       "<Figure size 1152x288 with 1 Axes>"
      ]
     },
     "metadata": {
      "needs_background": "light"
     },
     "output_type": "display_data"
    }
   ],
   "source": [
    "plot_hist(dfFiltered)"
   ]
  },
  {
   "cell_type": "code",
   "execution_count": 16,
   "metadata": {},
   "outputs": [],
   "source": [
    "train, test = dfFiltered.randomSplit([0.7, 0.3])\n",
    "train.write.mode(\"overwrite\").save(\"/data/lastfm-dataset-360K/data-filtered-train.parquet\")\n",
    "test.write.mode(\"overwrite\").save(\"/data/lastfm-dataset-360K/data-filtered-test.parquet\")"
   ]
  },
  {
   "cell_type": "code",
   "execution_count": 17,
   "metadata": {},
   "outputs": [
    {
     "name": "stdout",
     "output_type": "stream",
     "text": [
      "+----------------+----------------+------------------+\n",
      "|min(listenCount)|max(listenCount)|  avg(listenCount)|\n",
      "+----------------+----------------+------------------+\n",
      "|             7.0|           759.0|150.22779104352614|\n",
      "+----------------+----------------+------------------+\n",
      "\n",
      "+---------------------+------------------------+\n",
      "|var_samp(listenCount)|stddev_samp(listenCount)|\n",
      "+---------------------+------------------------+\n",
      "|   23448.431099488986|      153.12880558369474|\n",
      "+---------------------+------------------------+\n",
      "\n"
     ]
    }
   ],
   "source": [
    "dfFiltered.select(min(\"listenCount\"), max(\"listenCount\"), avg(\"listenCount\")).show()\n",
    "dfFiltered.select(variance(\"listenCount\"), stddev(\"listenCount\")).show()"
   ]
  },
  {
   "cell_type": "code",
   "execution_count": 18,
   "metadata": {},
   "outputs": [],
   "source": [
    "mean = dfFiltered.select(avg(\"listenCount\")).collect()[0][0]\n",
    "stdDev = dfFiltered.select(stddev(\"listenCount\")).collect()[0][0]\n",
    "\n",
    "def zscore(listenCount, **model_kargs):\n",
    "    return (listenCount - mean)/stdDev\n",
    "    \n",
    "dfStd = dfFiltered.withColumn(\"stdCount\", zscore(dfFiltered.listenCount))"
   ]
  },
  {
   "cell_type": "code",
   "execution_count": 19,
   "metadata": {},
   "outputs": [
    {
     "name": "stdout",
     "output_type": "stream",
     "text": [
      "+--------------------+--------------------+------+--------------------+----------------+--------------------+-----------+-------------------+\n",
      "|            userHash|          artistName|userId|      users-userHash|artists-artistId|  artists-artistName|listenCount|           stdCount|\n",
      "+--------------------+--------------------+------+--------------------+----------------+--------------------+-----------+-------------------+\n",
      "|7db053d7e66047b4b...|   angels & airwaves|247243|7db053d7e66047b4b...|          137758|   angels & airwaves|       12.0| -0.902689670415902|\n",
      "|7db053d7e66047b4b...|        jack johnson|247243|7db053d7e66047b4b...|          193045|        jack johnson|       12.0| -0.902689670415902|\n",
      "|7db053d7e66047b4b...|the smashing pump...|247243|7db053d7e66047b4b...|          288200|the smashing pump...|       12.0| -0.902689670415902|\n",
      "|7db053d7e66047b4b...|        jimi hendrix|247243|7db053d7e66047b4b...|           83478|        jimi hendrix|       11.0|-0.9092201203608892|\n",
      "|7db053d7e66047b4b...|        modest mouse|247243|7db053d7e66047b4b...|          136229|        modest mouse|       11.0|-0.9092201203608892|\n",
      "|7db053d7e66047b4b...|   animal collective|247243|7db053d7e66047b4b...|           63069|   animal collective|       10.0|-0.9157505703058765|\n",
      "|7db053d7e66047b4b...| death cab for cutie|247243|7db053d7e66047b4b...|          280889| death cab for cutie|        9.0|-0.9222810202508637|\n",
      "|7db053d7e66047b4b...|    notorious b.i.g.|247243|7db053d7e66047b4b...|          291091|    notorious b.i.g.|        9.0|-0.9222810202508637|\n",
      "|7db053d7e66047b4b...|         the beatles|247243|7db053d7e66047b4b...|            1464|         the beatles|        9.0|-0.9222810202508637|\n",
      "|7db053d7e66047b4b...|        dinosaur jr.|247243|7db053d7e66047b4b...|           96667|        dinosaur jr.|        8.0| -0.928811470195851|\n",
      "+--------------------+--------------------+------+--------------------+----------------+--------------------+-----------+-------------------+\n",
      "only showing top 10 rows\n",
      "\n"
     ]
    }
   ],
   "source": [
    "dfStd.show(10)\n",
    "dfStd.write.mode(\"overwrite\").save(\"/data/lastfm-dataset-360K/data-filtered-std.parquet\")"
   ]
  },
  {
   "cell_type": "code",
   "execution_count": 20,
   "metadata": {},
   "outputs": [
    {
     "name": "stdout",
     "output_type": "stream",
     "text": [
      "root\n",
      " |-- userHash: string (nullable = true)\n",
      " |-- artistName: string (nullable = true)\n",
      " |-- userId: integer (nullable = true)\n",
      " |-- users-userHash: string (nullable = true)\n",
      " |-- artists-artistId: integer (nullable = true)\n",
      " |-- artists-artistName: string (nullable = true)\n",
      " |-- listenCount: float (nullable = true)\n",
      " |-- stdCount: double (nullable = true)\n",
      "\n"
     ]
    }
   ],
   "source": [
    "dfStd = spark.read.load(\"/data/lastfm-dataset-360K/data-filtered-std.parquet\")\n",
    "dfStd.printSchema()"
   ]
  },
  {
   "cell_type": "code",
   "execution_count": 21,
   "metadata": {},
   "outputs": [
    {
     "name": "stdout",
     "output_type": "stream",
     "text": [
      "+-------------------+\n",
      "|      min(stdCount)|\n",
      "+-------------------+\n",
      "|-0.9353419201408382|\n",
      "+-------------------+\n",
      "\n"
     ]
    },
    {
     "data": {
      "text/plain": [
       "-0.9353419201408382"
      ]
     },
     "execution_count": 21,
     "metadata": {},
     "output_type": "execute_result"
    }
   ],
   "source": [
    "dfStd.select(min(\"stdCount\")).show()\n",
    "stdMin = dfStd.select(min(\"stdCount\")).collect()[0][0]\n",
    "stdMin"
   ]
  },
  {
   "cell_type": "code",
   "execution_count": 22,
   "metadata": {},
   "outputs": [
    {
     "name": "stdout",
     "output_type": "stream",
     "text": [
      "+------------------+---------------------+\n",
      "|var_samp(stdCount)|stddev_samp(stdCount)|\n",
      "+------------------+---------------------+\n",
      "|1.0000000000000049|   1.0000000000000024|\n",
      "+------------------+---------------------+\n",
      "\n"
     ]
    }
   ],
   "source": [
    "from pyspark.sql.functions import variance, stddev\n",
    "dfStd.select(variance(\"stdCount\"), stddev(\"stdCount\")).show()"
   ]
  },
  {
   "cell_type": "code",
   "execution_count": 23,
   "metadata": {},
   "outputs": [
    {
     "name": "stdout",
     "output_type": "stream",
     "text": [
      "0.9353419201408382\n",
      "+--------------------+--------------------+------+--------------------+----------------+--------------------+-----------+-------------------+--------------------+\n",
      "|            userHash|          artistName|userId|      users-userHash|artists-artistId|  artists-artistName|listenCount|           stdCount|         stdCountPos|\n",
      "+--------------------+--------------------+------+--------------------+----------------+--------------------+-----------+-------------------+--------------------+\n",
      "|7db053d7e66047b4b...|   angels & airwaves|247243|7db053d7e66047b4b...|          137758|   angels & airwaves|       12.0| -0.902689670415902| 0.03265224972493619|\n",
      "|7db053d7e66047b4b...|        jack johnson|247243|7db053d7e66047b4b...|          193045|        jack johnson|       12.0| -0.902689670415902| 0.03265224972493619|\n",
      "|7db053d7e66047b4b...|the smashing pump...|247243|7db053d7e66047b4b...|          288200|the smashing pump...|       12.0| -0.902689670415902| 0.03265224972493619|\n",
      "|7db053d7e66047b4b...|        jimi hendrix|247243|7db053d7e66047b4b...|           83478|        jimi hendrix|       11.0|-0.9092201203608892|0.026121799779948995|\n",
      "|7db053d7e66047b4b...|        modest mouse|247243|7db053d7e66047b4b...|          136229|        modest mouse|       11.0|-0.9092201203608892|0.026121799779948995|\n",
      "|7db053d7e66047b4b...|   animal collective|247243|7db053d7e66047b4b...|           63069|   animal collective|       10.0|-0.9157505703058765| 0.01959134983496169|\n",
      "|7db053d7e66047b4b...| death cab for cutie|247243|7db053d7e66047b4b...|          280889| death cab for cutie|        9.0|-0.9222810202508637|0.013060899889974498|\n",
      "|7db053d7e66047b4b...|    notorious b.i.g.|247243|7db053d7e66047b4b...|          291091|    notorious b.i.g.|        9.0|-0.9222810202508637|0.013060899889974498|\n",
      "|7db053d7e66047b4b...|         the beatles|247243|7db053d7e66047b4b...|            1464|         the beatles|        9.0|-0.9222810202508637|0.013060899889974498|\n",
      "|7db053d7e66047b4b...|        dinosaur jr.|247243|7db053d7e66047b4b...|           96667|        dinosaur jr.|        8.0| -0.928811470195851|0.006530449944987193|\n",
      "+--------------------+--------------------+------+--------------------+----------------+--------------------+-----------+-------------------+--------------------+\n",
      "only showing top 10 rows\n",
      "\n"
     ]
    }
   ],
   "source": [
    "absStdMin = abs(stdMin)\n",
    "print(absStdMin)\n",
    "\n",
    "def shift(stdCount, **model_kargs):\n",
    "    return stdCount + absStdMin\n",
    "\n",
    "dfStdPos = dfStd.withColumn(\"stdCountPos\", shift(dfStd.stdCount))\n",
    "dfStdPos.show(10)\n",
    "dfStdPos.write.mode(\"overwrite\").save(\"/data/lastfm-dataset-360K/data-filtered-std-pos.parquet\")"
   ]
  },
  {
   "cell_type": "code",
   "execution_count": 24,
   "metadata": {},
   "outputs": [],
   "source": [
    "train, test = dfStdPos.randomSplit([0.7, 0.3])\n",
    "\n",
    "train.write.mode(\"overwrite\").save(\"/data/lastfm-dataset-360K/data-filtered-std-pos-train.parquet\")\n",
    "test.write.mode(\"overwrite\").save(\"/data/lastfm-dataset-360K/data-filtered-std-pos-test.parquet\")"
   ]
  },
  {
   "cell_type": "code",
   "execution_count": null,
   "metadata": {},
   "outputs": [],
   "source": []
  }
 ],
 "metadata": {
  "kernelspec": {
   "display_name": "Python 3",
   "language": "python",
   "name": "python3"
  },
  "language_info": {
   "codemirror_mode": {
    "name": "ipython",
    "version": 3
   },
   "file_extension": ".py",
   "mimetype": "text/x-python",
   "name": "python",
   "nbconvert_exporter": "python",
   "pygments_lexer": "ipython3",
   "version": "3.6.9"
  }
 },
 "nbformat": 4,
 "nbformat_minor": 4
}
