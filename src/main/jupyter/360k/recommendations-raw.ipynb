{
 "cells": [
  {
   "cell_type": "code",
   "execution_count": 1,
   "metadata": {},
   "outputs": [
    {
     "name": "stdout",
     "output_type": "stream",
     "text": [
      "env: SPARK_HOME=/usr/hdp/current/spark2-client\n",
      "findspark initialized ...\n",
      "pyspark ready ...\n"
     ]
    }
   ],
   "source": [
    "%load_ext autoreload\n",
    "%env SPARK_HOME=/usr/hdp/current/spark2-client\n",
    "\n",
    "import findspark\n",
    "findspark.init()\n",
    "\n",
    "print('findspark initialized ...')\n",
    "\n",
    "import pyspark\n",
    "from pyspark.sql import SparkSession\n",
    "from pyspark.sql.functions import expr, col, column, max, min\n",
    "\n",
    "spark = SparkSession.builder.appName('mlonspark')\\\n",
    "    .config('spark.executor.instances', '7')\\\n",
    "    .getOrCreate()\n",
    "\n",
    "print('pyspark ready ...')"
   ]
  },
  {
   "cell_type": "code",
   "execution_count": 2,
   "metadata": {},
   "outputs": [],
   "source": [
    "df = spark.read.load(\"/data/lastfm-dataset-360K/data-final.parquet\")"
   ]
  },
  {
   "cell_type": "code",
   "execution_count": 3,
   "metadata": {},
   "outputs": [
    {
     "name": "stdout",
     "output_type": "stream",
     "text": [
      "+--------------------+--------------------+--------------------+-----------+\n",
      "|            userHash|          artistMBID|          artistName|listenCount|\n",
      "+--------------------+--------------------+--------------------+-----------+\n",
      "|f37640d943bf48a0a...|eab76c9f-ff91-443...|   infected mushroom|      330.0|\n",
      "|f37640d943bf48a0a...|82e454e2-38ee-4e6...|      chase & status|      323.0|\n",
      "|f37640d943bf48a0a...|889b69e3-7b18-488...|       high contrast|      298.0|\n",
      "|f37640d943bf48a0a...|b4afc42e-29d4-427...|            syncopix|      217.0|\n",
      "|f37640d943bf48a0a...|84800c46-2211-43e...|           aphrodite|      214.0|\n",
      "|f37640d943bf48a0a...|5e0ca89b-f5a6-403...|          stereo mcs|      206.0|\n",
      "|f37640d943bf48a0a...|ba2f4f3b-0293-4bc...|          underworld|      193.0|\n",
      "|f37640d943bf48a0a...|18234037-c0e5-4be...|bachelors of science|      168.0|\n",
      "|f37640d943bf48a0a...|0356daee-ec48-449...|  london elektricity|      166.0|\n",
      "|f37640d943bf48a0a...|32a509d0-6c4c-43c...|                  tc|      153.0|\n",
      "|f37640d943bf48a0a...|363b9e17-e955-461...|               cosma|      151.0|\n",
      "|f37640d943bf48a0a...|380e2880-567d-499...|             nu:tone|      137.0|\n",
      "|f37640d943bf48a0a...|174d9bdb-4e9c-4c4...|             dj zinc|      123.0|\n",
      "|f37640d943bf48a0a...|afa502e0-fb84-4cf...|             calibre|      115.0|\n",
      "|f37640d943bf48a0a...|c854e1fa-5063-4a7...|              makoto|       99.0|\n",
      "|f37640d943bf48a0a...|eb132583-2351-42f...|              commix|       91.0|\n",
      "|f37640d943bf48a0a...|ee63ef60-6cd3-495...|              bungle|       86.0|\n",
      "|f37640d943bf48a0a...|f2fc6ece-5615-4d2...|            pendulum|       86.0|\n",
      "|f37640d943bf48a0a...|d614b0ad-fe3a-492...|           frou frou|       82.0|\n",
      "|f37640d943bf48a0a...|8cf49f40-b8fe-4a6...|           sub focus|       80.0|\n",
      "+--------------------+--------------------+--------------------+-----------+\n",
      "only showing top 20 rows\n",
      "\n"
     ]
    }
   ],
   "source": [
    "dforig = spark.read.load(\"/data/lastfm-dataset-360K/data-raw.parquet\")\n",
    "dforig.filter(dforig.userHash==\"f37640d943bf48a0ae42058733dd18e48d66f337\").show()"
   ]
  },
  {
   "cell_type": "code",
   "execution_count": 4,
   "metadata": {},
   "outputs": [
    {
     "name": "stdout",
     "output_type": "stream",
     "text": [
      "+--------------------+------+\n",
      "|            userHash|userId|\n",
      "+--------------------+------+\n",
      "|f37640d943bf48a0a...| 54113|\n",
      "+--------------------+------+\n",
      "\n"
     ]
    }
   ],
   "source": [
    "users = spark.read.load(\"/data/lastfm-dataset-360K/users.parquet\")\n",
    "users.filter(users.userHash==\"f37640d943bf48a0ae42058733dd18e48d66f337\").show()\n",
    "artists = spark.read.load(\"/data/lastfm-dataset-360K/artists.parquet\")"
   ]
  },
  {
   "cell_type": "code",
   "execution_count": 5,
   "metadata": {},
   "outputs": [],
   "source": [
    "from mlonspark import AlternatingLeastSquare\n",
    "alg = AlternatingLeastSquare()\\\n",
    "    .setUserCol(\"userId\")\\\n",
    "    .setItemCol(\"artists-artistId\")\\\n",
    "    .setRatingCol(\"listenCount\")\\\n",
    "    .setImplicitPrefs(True)\n",
    "\n",
    "model = alg.fit(df)"
   ]
  },
  {
   "cell_type": "code",
   "execution_count": 6,
   "metadata": {},
   "outputs": [
    {
     "name": "stdout",
     "output_type": "stream",
     "text": [
      "RMSE = 650.775256\n"
     ]
    }
   ],
   "source": [
    "from pyspark.ml.evaluation import RegressionEvaluator\n",
    "from pyspark.sql.functions import isnan\n",
    "evaluator = RegressionEvaluator()\\\n",
    "    .setMetricName(\"rmse\")\\\n",
    "    .setLabelCol(\"listenCount\")\\\n",
    "    .setPredictionCol(\"prediction\")\n",
    "\n",
    "predictions = model.transform(df)\n",
    "predictionsFiltered = predictions.where(~isnan(col(\"prediction\")))  \n",
    "rmse = evaluator.evaluate(predictionsFiltered)\n",
    "\n",
    "print(\"RMSE = %f\" % rmse)"
   ]
  },
  {
   "cell_type": "code",
   "execution_count": 7,
   "metadata": {},
   "outputs": [],
   "source": [
    "dfSingleUser = df.filter(df.userId==54113)"
   ]
  },
  {
   "cell_type": "code",
   "execution_count": 8,
   "metadata": {},
   "outputs": [],
   "source": [
    "recommendations = model.recommendForUserSubset(dfSingleUser, 10)"
   ]
  },
  {
   "cell_type": "code",
   "execution_count": 9,
   "metadata": {},
   "outputs": [],
   "source": [
    "recs = recommendations.rdd.flatMap(lambda v: v.recommendations).toDF()\\\n",
    "    .withColumnRenamed(\"artists-artistId\", \"artistId\")"
   ]
  },
  {
   "cell_type": "code",
   "execution_count": 10,
   "metadata": {},
   "outputs": [
    {
     "name": "stdout",
     "output_type": "stream",
     "text": [
      "+------------------+\n",
      "|        artistName|\n",
      "+------------------+\n",
      "|     high contrast|\n",
      "|              krec|\n",
      "|london elektricity|\n",
      "|          deadmau5|\n",
      "|         aphrodite|\n",
      "|         junkie xl|\n",
      "|            hybrid|\n",
      "|         logistics|\n",
      "|     groove armada|\n",
      "| nightmares on wax|\n",
      "+------------------+\n",
      "\n"
     ]
    }
   ],
   "source": [
    "recsFinal = recs\\\n",
    "    .join(artists, recs.artistId==artists.artistId, 'inner')\\\n",
    "    .select(artists.artistName)\n",
    "\n",
    "recsFinal.show()"
   ]
  },
  {
   "cell_type": "code",
   "execution_count": null,
   "metadata": {},
   "outputs": [],
   "source": []
  }
 ],
 "metadata": {
  "kernelspec": {
   "display_name": "Python 3",
   "language": "python",
   "name": "python3"
  },
  "language_info": {
   "codemirror_mode": {
    "name": "ipython",
    "version": 3
   },
   "file_extension": ".py",
   "mimetype": "text/x-python",
   "name": "python",
   "nbconvert_exporter": "python",
   "pygments_lexer": "ipython3",
   "version": "3.6.9"
  }
 },
 "nbformat": 4,
 "nbformat_minor": 4
}
