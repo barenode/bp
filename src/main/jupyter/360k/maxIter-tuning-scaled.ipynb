{
 "cells": [
  {
   "cell_type": "code",
   "execution_count": 1,
   "metadata": {},
   "outputs": [
    {
     "name": "stdout",
     "output_type": "stream",
     "text": [
      "env: SPARK_HOME=/usr/hdp/current/spark2-client\n",
      "findspark initialized ...\n",
      "pyspark ready ...\n"
     ]
    }
   ],
   "source": [
    "%load_ext autoreload\n",
    "%env SPARK_HOME=/usr/hdp/current/spark2-client\n",
    "\n",
    "import findspark\n",
    "findspark.init()\n",
    "\n",
    "print('findspark initialized ...')\n",
    "\n",
    "import pyspark\n",
    "from pyspark.sql import SparkSession\n",
    "from pyspark.sql.functions import expr, col, column, max, min\n",
    "\n",
    "spark = SparkSession.builder.appName('mlonspark')\\\n",
    "    .config('spark.executor.instances', '7')\\\n",
    "    .getOrCreate()\n",
    "\n",
    "print('pyspark ready ...')"
   ]
  },
  {
   "cell_type": "code",
   "execution_count": 2,
   "metadata": {},
   "outputs": [],
   "source": [
    "from mlonspark import AlternatingLeastSquare\n",
    "def initalg(val):\n",
    "    return AlternatingLeastSquare()\\\n",
    "    .setUserCol(\"userId\")\\\n",
    "    .setItemCol(\"artistId\")\\\n",
    "    .setRatingCol(\"scaled-by-artist\")\\\n",
    "    .setRank(40)\\\n",
    "    .setMaxIter(val)\\\n",
    "    .setImplicitPrefs(True)\n"
   ]
  },
  {
   "cell_type": "code",
   "execution_count": 3,
   "metadata": {},
   "outputs": [],
   "source": [
    "train = spark.read.load(\"/data/lastfm-dataset-360K/coo-data-train.parquet\")\n",
    "test = spark.read.load(\"/data/lastfm-dataset-360K/coo-data-test.parquet\")"
   ]
  },
  {
   "cell_type": "code",
   "execution_count": 4,
   "metadata": {},
   "outputs": [],
   "source": [
    "from pyspark.ml.evaluation import RegressionEvaluator\n",
    "from pyspark.sql.functions import isnan\n",
    "\n",
    "evaluator = RegressionEvaluator()\\\n",
    "    .setMetricName(\"rmse\")\\\n",
    "    .setLabelCol(\"scaled-by-artist\")\\\n",
    "    .setPredictionCol(\"prediction\")\n",
    "\n",
    "def runtest(rng, **model_kargs):\n",
    "    res = []\n",
    "    for i in rng:\n",
    "        alg = initalg(i)\n",
    "        model = alg.fit(train)\n",
    "        trainPredictions = model.transform(train)\n",
    "        trainPredictionsFiltered = trainPredictions.where(~isnan(col(\"prediction\")))  \n",
    "        trainRmse = evaluator.evaluate(trainPredictionsFiltered)\n",
    "        testPredictions = model.transform(test)\n",
    "        testPredictionsFiltered = testPredictions.where(~isnan(col(\"prediction\")))    \n",
    "        testRmse = evaluator.evaluate(testPredictionsFiltered)\n",
    "        res.append([i, trainRmse, testRmse])\n",
    "    return res"
   ]
  },
  {
   "cell_type": "code",
   "execution_count": 5,
   "metadata": {},
   "outputs": [
    {
     "name": "stdout",
     "output_type": "stream",
     "text": [
      "[[4, 1.7848004330063618, 1.7821011429296425], [6, 1.7841257119946752, 1.7828703655300473], [8, 1.7844772498600998, 1.783880981668901], [10, 1.7847098157195085, 1.784471942223255], [12, 1.7848195962260693, 1.7847922011744146], [14, 1.7848656741131848, 1.7849683066327668], [16, 1.7848827187266703, 1.7850693388148102], [18, 1.7848872032716478, 1.785130372117665]]\n"
     ]
    }
   ],
   "source": [
    "import numpy as np\n",
    "rng = np.arange(4, 20, 2).tolist()\n",
    "res = runtest(rng)\n",
    "print(res)"
   ]
  },
  {
   "cell_type": "code",
   "execution_count": 6,
   "metadata": {},
   "outputs": [
    {
     "data": {
      "text/plain": [
       "Text(0, 0.5, 'RMSE')"
      ]
     },
     "execution_count": 6,
     "metadata": {},
     "output_type": "execute_result"
    },
    {
     "data": {
      "image/png": "[encoded data removed]",
      "text/plain": [
       "<Figure size 576x288 with 1 Axes>"
      ]
     },
     "metadata": {
      "needs_background": "light"
     },
     "output_type": "display_data"
    }
   ],
   "source": [
    "%matplotlib inline\n",
    "import matplotlib as mpl\n",
    "import matplotlib.pyplot as plt\n",
    "\n",
    "x = []\n",
    "yTrain = []\n",
    "yTest = []\n",
    "for v in res:\n",
    "    x.append(v[0])\n",
    "    yTrain.append(v[1])\n",
    "    yTest.append(v[2])\n",
    "\n",
    "plt.figure(figsize=(8,4))\n",
    "plt.plot(x, yTrain, \"g-\", linewidth=2, label=r\"$TRAIN$\")\n",
    "plt.plot(x, yTest, \"r:\", linewidth=2, label=r\"TEST\")\n",
    "plt.legend(loc=\"upper left\", fontsize=15)\n",
    "plt.ylabel(\"RMSE\", fontsize=18)"
   ]
  },
  {
   "cell_type": "code",
   "execution_count": null,
   "metadata": {},
   "outputs": [],
   "source": []
  }
 ],
 "metadata": {
  "kernelspec": {
   "display_name": "Python 3",
   "language": "python",
   "name": "python3"
  },
  "language_info": {
   "codemirror_mode": {
    "name": "ipython",
    "version": 3
   },
   "file_extension": ".py",
   "mimetype": "text/x-python",
   "name": "python",
   "nbconvert_exporter": "python",
   "pygments_lexer": "ipython3",
   "version": "3.6.9"
  }
 },
 "nbformat": 4,
 "nbformat_minor": 4
}
