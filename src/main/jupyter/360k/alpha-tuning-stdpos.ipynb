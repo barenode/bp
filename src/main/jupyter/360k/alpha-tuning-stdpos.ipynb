{
 "cells": [
  {
   "cell_type": "code",
   "execution_count": 1,
   "metadata": {},
   "outputs": [
    {
     "name": "stdout",
     "output_type": "stream",
     "text": [
      "env: SPARK_HOME=/usr/hdp/current/spark2-client\n",
      "findspark initialized ...\n"
     ]
    }
   ],
   "source": [
    "%load_ext autoreload\n",
    "%env SPARK_HOME=/usr/hdp/current/spark2-client\n",
    "\n",
    "import findspark\n",
    "findspark.init()\n",
    "print('findspark initialized ...')\n",
    "\n",
    "import pyspark\n",
    "from pyspark.sql import SparkSession\n",
    "from pyspark.sql.functions import expr, col, column, max, min"
   ]
  },
  {
   "cell_type": "code",
   "execution_count": 2,
   "metadata": {},
   "outputs": [],
   "source": [
    "def initspark():\n",
    "    spark = SparkSession.builder.appName('mlonspark')\\\n",
    "        .config('spark.executor.instances', '3')\\\n",
    "        .getOrCreate()\n",
    "    print('pyspark ready ...')\n",
    "    return spark"
   ]
  },
  {
   "cell_type": "code",
   "execution_count": 3,
   "metadata": {},
   "outputs": [],
   "source": [
    "from pyspark.ml.recommendation import ALS\n",
    "def initalg(val):\n",
    "    return ALS()\\\n",
    "    .setUserCol(\"userId\")\\\n",
    "    .setItemCol(\"artistId\")\\\n",
    "    .setRatingCol(\"stdCountPos\")\\\n",
    "    .setRank(25)\\\n",
    "    .setRegParam(0.0)\\\n",
    "    .setAlpha(val)\\\n",
    "    .setImplicitPrefs(True)\n"
   ]
  },
  {
   "cell_type": "code",
   "execution_count": 4,
   "metadata": {},
   "outputs": [],
   "source": [
    "import matplotlib as mpl\n",
    "import matplotlib.pyplot as plt\n",
    "\n",
    "def plot(res):\n",
    "    x = []\n",
    "    yTrain = []\n",
    "    yTest = []\n",
    "    for v in res:\n",
    "        x.append(v[0])\n",
    "        yTrain.append(v[1])\n",
    "        yTest.append(v[2])\n",
    "\n",
    "    plt.figure(figsize=(8,4))\n",
    "    plt.plot(x, yTrain, \"g-\", linewidth=2, label=r\"$TRAIN$\")\n",
    "    plt.plot(x, yTest, \"r:\", linewidth=2, label=r\"TEST\")\n",
    "    plt.legend(loc=\"upper left\", fontsize=15)\n",
    "    plt.ylabel(\"RMSE\", fontsize=18)"
   ]
  },
  {
   "cell_type": "code",
   "execution_count": 5,
   "metadata": {},
   "outputs": [],
   "source": [
    "from pyspark.ml.evaluation import RegressionEvaluator\n",
    "from pyspark.sql.functions import isnan\n",
    "\n",
    "def runtest(rng, **model_kargs):\n",
    "    res = []\n",
    "    for i in rng:\n",
    "        spark = initspark();\n",
    "        train = spark.read.load(\"/data/lastfm-dataset-360K/data-filtered-std-pos-train.parquet\")\n",
    "        test = spark.read.load(\"/data/lastfm-dataset-360K/data-filtered-std-pos-test.parquet\")\n",
    "        \n",
    "        evaluator = RegressionEvaluator()\\\n",
    "            .setMetricName(\"rmse\")\\\n",
    "            .setLabelCol(\"stdCountPos\")\\\n",
    "            .setPredictionCol(\"prediction\")\n",
    "        \n",
    "        alg = initalg(i)\n",
    "        model = alg.fit(train)\n",
    "        trainPredictions = model.transform(train)\n",
    "        trainPredictionsFiltered = trainPredictions.where(~isnan(col(\"prediction\")))  \n",
    "        trainRmse = evaluator.evaluate(trainPredictionsFiltered)\n",
    "        \n",
    "        \n",
    "        testPredictions = model.transform(test)\n",
    "        testPredictionsFiltered = testPredictions.where(~isnan(col(\"prediction\")))    \n",
    "        \n",
    "        \n",
    "        testRmse = evaluator.evaluate(testPredictionsFiltered)\n",
    "        \n",
    "        \n",
    "        res.append([i, trainRmse, testRmse])\n",
    "        plot(res)\n",
    "        spark.stop()\n",
    "    return res"
   ]
  },
  {
   "cell_type": "code",
   "execution_count": null,
   "metadata": {},
   "outputs": [],
   "source": [
    "%matplotlib inline\n",
    "\n",
    "import numpy as np\n",
    "rng = np.arange(0.0, 10.0, 1.0).tolist()\n",
    "res = runtest(rng)\n",
    "print(res)"
   ]
  },
  {
   "cell_type": "code",
   "execution_count": null,
   "metadata": {},
   "outputs": [],
   "source": [
    "x = []\n",
    "yTrain = []\n",
    "yTest = []\n",
    "for v in res:\n",
    "    x.append(v[0])\n",
    "    yTrain.append(v[1])\n",
    "    yTest.append(v[2])\n",
    "\n",
    "print(yTest)"
   ]
  },
  {
   "cell_type": "code",
   "execution_count": null,
   "metadata": {},
   "outputs": [],
   "source": [
    "%matplotlib inline\n",
    "import matplotlib as mpl\n",
    "import matplotlib.pyplot as plt\n",
    "\n",
    "plt.figure(figsize=(8,4))\n",
    "plt.plot(x, yTrain, \"g-\", linewidth=2, label=r\"$TRAIN$\")\n",
    "plt.plot(x, yTest, \"r:\", linewidth=2, label=r\"TEST\")\n",
    "plt.legend(loc=\"upper left\", fontsize=15)\n",
    "plt.ylabel(\"RMSE\", fontsize=18)"
   ]
  },
  {
   "cell_type": "code",
   "execution_count": null,
   "metadata": {},
   "outputs": [],
   "source": []
  }
 ],
 "metadata": {
  "kernelspec": {
   "display_name": "Python 3",
   "language": "python",
   "name": "python3"
  },
  "language_info": {
   "codemirror_mode": {
    "name": "ipython",
    "version": 3
   },
   "file_extension": ".py",
   "mimetype": "text/x-python",
   "name": "python",
   "nbconvert_exporter": "python",
   "pygments_lexer": "ipython3",
   "version": "3.6.9"
  }
 },
 "nbformat": 4,
 "nbformat_minor": 4
}
