{
 "cells": [
  {
   "cell_type": "code",
   "execution_count": 1,
   "metadata": {},
   "outputs": [
    {
     "name": "stdout",
     "output_type": "stream",
     "text": [
      "env: SPARK_HOME=/usr/hdp/current/spark2-client\n",
      "findspark initialized ...\n",
      "pyspark ready ...\n"
     ]
    }
   ],
   "source": [
    "%load_ext autoreload\n",
    "%env SPARK_HOME=/usr/hdp/current/spark2-client\n",
    "\n",
    "import findspark\n",
    "findspark.init()\n",
    "\n",
    "print('findspark initialized ...')\n",
    "\n",
    "import pyspark\n",
    "from pyspark.sql import SparkSession\n",
    "from pyspark.sql.functions import expr, col, column, max, min\n",
    "\n",
    "spark = SparkSession.builder.appName('mlonspark')\\\n",
    "    .config('spark.executor.instances', '6')\\\n",
    "    .config('spark.jars', '/opt/dev/target/ml-on-spark-1.0.jar')\\\n",
    "    .getOrCreate()\n",
    "\n",
    "print('pyspark ready ...')"
   ]
  },
  {
   "cell_type": "code",
   "execution_count": 3,
   "metadata": {},
   "outputs": [
    {
     "name": "stdout",
     "output_type": "stream",
     "text": [
      "+---------------------------------------------------------------------------------------------------------+\n",
      "|value                                                                                                    |\n",
      "+---------------------------------------------------------------------------------------------------------+\n",
      "|00000c289a1829a808ac09c00daf10bc3c4e223b\t3bd73256-3905-4f3a-97e2-8b341527f805\tbetty blowtorch\t2137       |\n",
      "|00000c289a1829a808ac09c00daf10bc3c4e223b\tf2fb0ff0-5679-42ec-a55c-15109ce6e320\tdie Ärzte\t1099             |\n",
      "|00000c289a1829a808ac09c00daf10bc3c4e223b\tb3ae82c2-e60b-4551-a76d-6620f1b456aa\tmelissa etheridge\t897      |\n",
      "|00000c289a1829a808ac09c00daf10bc3c4e223b\t3d6bbeb7-f90e-4d10-b440-e153c0d10b53\telvenking\t717              |\n",
      "|00000c289a1829a808ac09c00daf10bc3c4e223b\tbbd2ffd7-17f4-4506-8572-c1ea58c3f9a8\tjuliette & the licks\t706   |\n",
      "|00000c289a1829a808ac09c00daf10bc3c4e223b\t8bfac288-ccc5-448d-9573-c33ea2aa5c30\tred hot chili peppers\t691  |\n",
      "|00000c289a1829a808ac09c00daf10bc3c4e223b\t6531c8b1-76ea-4141-b270-eb1ac5b41375\tmagica\t545                 |\n",
      "|00000c289a1829a808ac09c00daf10bc3c4e223b\t21f3573f-10cf-44b3-aeaa-26cccd8448b5\tthe black dahlia murder\t507|\n",
      "|00000c289a1829a808ac09c00daf10bc3c4e223b\tc5db90c4-580d-4f33-b364-fbaa5a3a58b5\tthe murmurs\t424            |\n",
      "|00000c289a1829a808ac09c00daf10bc3c4e223b\t0639533a-0402-40ba-b6e0-18b067198b73\tlunachicks\t403             |\n",
      "+---------------------------------------------------------------------------------------------------------+\n",
      "only showing top 10 rows\n",
      "\n",
      "root\n",
      " |-- value: string (nullable = true)\n",
      "\n"
     ]
    },
    {
     "data": {
      "text/plain": [
       "17559530"
      ]
     },
     "execution_count": 3,
     "metadata": {},
     "output_type": "execute_result"
    }
   ],
   "source": [
    "rawData = spark.read.format('text').load(\"/data/lastfm-dataset-360K/usersha1-artmbid-artname-plays.tsv\")\n",
    "rawData.show(10, False)\n",
    "rawData.printSchema()\n",
    "rawData.count()"
   ]
  },
  {
   "cell_type": "code",
   "execution_count": 4,
   "metadata": {
    "scrolled": true
   },
   "outputs": [
    {
     "name": "stdout",
     "output_type": "stream",
     "text": [
      "+----------------------------------------+------------------------------------+-----------------------+----+\n",
      "|_1                                      |_2                                  |_3                     |_4  |\n",
      "+----------------------------------------+------------------------------------+-----------------------+----+\n",
      "|00000c289a1829a808ac09c00daf10bc3c4e223b|3bd73256-3905-4f3a-97e2-8b341527f805|betty blowtorch        |2137|\n",
      "|00000c289a1829a808ac09c00daf10bc3c4e223b|f2fb0ff0-5679-42ec-a55c-15109ce6e320|die Ärzte              |1099|\n",
      "|00000c289a1829a808ac09c00daf10bc3c4e223b|b3ae82c2-e60b-4551-a76d-6620f1b456aa|melissa etheridge      |897 |\n",
      "|00000c289a1829a808ac09c00daf10bc3c4e223b|3d6bbeb7-f90e-4d10-b440-e153c0d10b53|elvenking              |717 |\n",
      "|00000c289a1829a808ac09c00daf10bc3c4e223b|bbd2ffd7-17f4-4506-8572-c1ea58c3f9a8|juliette & the licks   |706 |\n",
      "|00000c289a1829a808ac09c00daf10bc3c4e223b|8bfac288-ccc5-448d-9573-c33ea2aa5c30|red hot chili peppers  |691 |\n",
      "|00000c289a1829a808ac09c00daf10bc3c4e223b|6531c8b1-76ea-4141-b270-eb1ac5b41375|magica                 |545 |\n",
      "|00000c289a1829a808ac09c00daf10bc3c4e223b|21f3573f-10cf-44b3-aeaa-26cccd8448b5|the black dahlia murder|507 |\n",
      "|00000c289a1829a808ac09c00daf10bc3c4e223b|c5db90c4-580d-4f33-b364-fbaa5a3a58b5|the murmurs            |424 |\n",
      "|00000c289a1829a808ac09c00daf10bc3c4e223b|0639533a-0402-40ba-b6e0-18b067198b73|lunachicks             |403 |\n",
      "+----------------------------------------+------------------------------------+-----------------------+----+\n",
      "only showing top 10 rows\n",
      "\n"
     ]
    },
    {
     "data": {
      "text/plain": [
       "17559530"
      ]
     },
     "execution_count": 4,
     "metadata": {},
     "output_type": "execute_result"
    }
   ],
   "source": [
    "def parseLine(line) :\n",
    "    splits = line.value.split(\"\\t\")\n",
    "    if (len(splits) == 4):\n",
    "        return [splits]\n",
    "    else:\n",
    "        return []    \n",
    "    \n",
    "\n",
    "parsedData = rawData.rdd.flatMap(parseLine).toDF()\n",
    "parsedData.show(10, False)\n",
    "parsedData.count()"
   ]
  },
  {
   "cell_type": "code",
   "execution_count": 5,
   "metadata": {},
   "outputs": [
    {
     "name": "stdout",
     "output_type": "stream",
     "text": [
      "+----------------------------------------+------------------------------------+-----------------------+-----------+\n",
      "|userHash                                |artistMBID                          |artistName             |listenCount|\n",
      "+----------------------------------------+------------------------------------+-----------------------+-----------+\n",
      "|00000c289a1829a808ac09c00daf10bc3c4e223b|3bd73256-3905-4f3a-97e2-8b341527f805|betty blowtorch        |2137       |\n",
      "|00000c289a1829a808ac09c00daf10bc3c4e223b|f2fb0ff0-5679-42ec-a55c-15109ce6e320|die Ärzte              |1099       |\n",
      "|00000c289a1829a808ac09c00daf10bc3c4e223b|b3ae82c2-e60b-4551-a76d-6620f1b456aa|melissa etheridge      |897        |\n",
      "|00000c289a1829a808ac09c00daf10bc3c4e223b|3d6bbeb7-f90e-4d10-b440-e153c0d10b53|elvenking              |717        |\n",
      "|00000c289a1829a808ac09c00daf10bc3c4e223b|bbd2ffd7-17f4-4506-8572-c1ea58c3f9a8|juliette & the licks   |706        |\n",
      "|00000c289a1829a808ac09c00daf10bc3c4e223b|8bfac288-ccc5-448d-9573-c33ea2aa5c30|red hot chili peppers  |691        |\n",
      "|00000c289a1829a808ac09c00daf10bc3c4e223b|6531c8b1-76ea-4141-b270-eb1ac5b41375|magica                 |545        |\n",
      "|00000c289a1829a808ac09c00daf10bc3c4e223b|21f3573f-10cf-44b3-aeaa-26cccd8448b5|the black dahlia murder|507        |\n",
      "|00000c289a1829a808ac09c00daf10bc3c4e223b|c5db90c4-580d-4f33-b364-fbaa5a3a58b5|the murmurs            |424        |\n",
      "|00000c289a1829a808ac09c00daf10bc3c4e223b|0639533a-0402-40ba-b6e0-18b067198b73|lunachicks             |403        |\n",
      "+----------------------------------------+------------------------------------+-----------------------+-----------+\n",
      "only showing top 10 rows\n",
      "\n"
     ]
    }
   ],
   "source": [
    "parsedData = parsedData\\\n",
    "    .withColumnRenamed(\"_1\", \"userHash\")\\\n",
    "    .withColumnRenamed(\"_2\", \"artistMBID\")\\\n",
    "    .withColumnRenamed(\"_3\", \"artistName\")\\\n",
    "    .withColumnRenamed(\"_4\", \"listenCount\")\n",
    "\n",
    "parsedData.show(10, False)"
   ]
  },
  {
   "cell_type": "code",
   "execution_count": 6,
   "metadata": {},
   "outputs": [],
   "source": [
    "users = parsedData\\\n",
    "    .select(parsedData['userHash'])\\\n",
    "    .dropDuplicates(['userHash'])\n",
    "users = users.rdd.zipWithIndex().map(lambda row: [row[0][0], row[1]]).toDF()\n",
    "users = users.select(\\\n",
    "    users[\"_2\"].alias('userId').cast(\"integer\"),\\\n",
    "    users[\"_1\"].alias('userHash')\\\n",
    ")\n",
    "users.write.mode(\"overwrite\").save(\"/data/lastfm-dataset-360K/users.parquet\")"
   ]
  },
  {
   "cell_type": "code",
   "execution_count": 7,
   "metadata": {},
   "outputs": [
    {
     "name": "stdout",
     "output_type": "stream",
     "text": [
      "root\n",
      " |-- userId: integer (nullable = true)\n",
      " |-- userHash: string (nullable = true)\n",
      "\n",
      "+------+----------------------------------------+\n",
      "|userId|userHash                                |\n",
      "+------+----------------------------------------+\n",
      "|0     |5410cfa2de1d31506084a6de0ad7d64276ba7f57|\n",
      "|1     |542b73ac4cd44c43bf185d7d0e6bd65c979a7c1b|\n",
      "|2     |542bb9a086129a85ad564c76c60b618a8b34f6de|\n",
      "|3     |5441dfe441148310b14c461a4a333800a7fd304f|\n",
      "|4     |5452326206fdc325339060394dc4dd750bd8867b|\n",
      "|5     |545fb35615ce95c7927cae6a531c7288b5a7bba2|\n",
      "|6     |5461801f3d8a34498ce874992f1aa956c44a4eca|\n",
      "|7     |5479ce56f4d4def1417d758ad70aa6b4d64da4e5|\n",
      "|8     |548fadb5d4018702c48e0ac846e53860702c6e5d|\n",
      "|9     |54a5addc793666cd62e6bf32ca09542f02b2d35c|\n",
      "+------+----------------------------------------+\n",
      "only showing top 10 rows\n",
      "\n"
     ]
    }
   ],
   "source": [
    "users.printSchema()\n",
    "users.show(10, False)"
   ]
  },
  {
   "cell_type": "code",
   "execution_count": 8,
   "metadata": {},
   "outputs": [
    {
     "data": {
      "text/plain": [
       "359349"
      ]
     },
     "execution_count": 8,
     "metadata": {},
     "output_type": "execute_result"
    }
   ],
   "source": [
    "persistedUsers = spark.read.load(\"/data/lastfm-dataset-360K/users.parquet\")\n",
    "persistedUsers.rdd.getNumPartitions()\n",
    "persistedUsers.count()"
   ]
  },
  {
   "cell_type": "code",
   "execution_count": 9,
   "metadata": {},
   "outputs": [],
   "source": [
    "artists = parsedData\\\n",
    "    .select(parsedData['artistName'])\\\n",
    "    .dropDuplicates(['artistName'])\n",
    "artists = artists.rdd.zipWithIndex().map(lambda row: [row[0][0], row[1]]).toDF()\n",
    "artists = artists.select(\\\n",
    "    artists[\"_2\"].alias('artistId').cast(\"integer\"),\\\n",
    "    artists[\"_1\"].alias('artistName')\\\n",
    ")\n",
    "artists.write.mode(\"overwrite\").save(\"/data/lastfm-dataset-360K/artists.parquet\")"
   ]
  },
  {
   "cell_type": "code",
   "execution_count": 10,
   "metadata": {},
   "outputs": [
    {
     "name": "stdout",
     "output_type": "stream",
     "text": [
      "root\n",
      " |-- artistId: integer (nullable = true)\n",
      " |-- artistName: string (nullable = true)\n",
      "\n",
      "+--------+------------------+\n",
      "|artistId|artistName        |\n",
      "+--------+------------------+\n",
      "|0       |lagwagon          |\n",
      "|1       |vengaboys         |\n",
      "|2       |soulstice         |\n",
      "|3       |the mountain goats|\n",
      "|4       |godsmack          |\n",
      "|5       |clan greco        |\n",
      "|6       |embrace           |\n",
      "|7       |kate bush         |\n",
      "|8       |bun b             |\n",
      "|9       |vonda shepard     |\n",
      "+--------+------------------+\n",
      "only showing top 10 rows\n",
      "\n"
     ]
    },
    {
     "data": {
      "text/plain": [
       "292589"
      ]
     },
     "execution_count": 10,
     "metadata": {},
     "output_type": "execute_result"
    }
   ],
   "source": [
    "artists.printSchema()\n",
    "artists.show(10, False)\n",
    "artists.count()"
   ]
  },
  {
   "cell_type": "code",
   "execution_count": 11,
   "metadata": {},
   "outputs": [
    {
     "name": "stdout",
     "output_type": "stream",
     "text": [
      "root\n",
      " |-- userId: integer (nullable = true)\n",
      " |-- artistId: integer (nullable = true)\n",
      " |-- listenCount: float (nullable = true)\n",
      "\n",
      "+------+--------+-----------+\n",
      "|userId|artistId|listenCount|\n",
      "+------+--------+-----------+\n",
      "|234812|310     |33.0       |\n",
      "|4878  |1139    |115.0      |\n",
      "|168416|421     |63.0       |\n",
      "|201840|1261    |1.0        |\n",
      "|297568|1008    |33.0       |\n",
      "|137989|828     |123.0      |\n",
      "|39940 |903     |257.0      |\n",
      "|92140 |352     |9.0        |\n",
      "|81117 |352     |30.0       |\n",
      "|292123|352     |1.0        |\n",
      "+------+--------+-----------+\n",
      "only showing top 10 rows\n",
      "\n"
     ]
    }
   ],
   "source": [
    "cooMatrixData = parsedData\\\n",
    "    .join(users, parsedData[\"userHash\"]==users[\"userHash\"], 'inner')\\\n",
    "    .join(artists, parsedData[\"artistName\"]==artists[\"artistName\"], 'inner')\\\n",
    "    .select(users[\"userId\"], artists[\"artistId\"], parsedData[\"listenCount\"].cast(\"float\"))\n",
    "\n",
    "cooMatrixData.printSchema()\n",
    "cooMatrixData.show(10, False)"
   ]
  },
  {
   "cell_type": "code",
   "execution_count": 2,
   "metadata": {},
   "outputs": [
    {
     "ename": "NameError",
     "evalue": "name 'cooMatrixData' is not defined",
     "output_type": "error",
     "traceback": [
      "\u001b[0;31m---------------------------------------------------------------------------\u001b[0m",
      "\u001b[0;31mNameError\u001b[0m                                 Traceback (most recent call last)",
      "\u001b[0;32m<ipython-input-2-7f263b707132>\u001b[0m in \u001b[0;36m<module>\u001b[0;34m\u001b[0m\n\u001b[0;32m----> 1\u001b[0;31m \u001b[0mcooMatrixData\u001b[0m\u001b[0;34m.\u001b[0m\u001b[0mwrite\u001b[0m\u001b[0;34m.\u001b[0m\u001b[0mmode\u001b[0m\u001b[0;34m(\u001b[0m\u001b[0;34m\"overwrite\"\u001b[0m\u001b[0;34m)\u001b[0m\u001b[0;34m.\u001b[0m\u001b[0msave\u001b[0m\u001b[0;34m(\u001b[0m\u001b[0;34m\"/data/lastfm-dataset-360K/coo-data.parquet\"\u001b[0m\u001b[0;34m)\u001b[0m\u001b[0;34m\u001b[0m\u001b[0;34m\u001b[0m\u001b[0m\n\u001b[0m",
      "\u001b[0;31mNameError\u001b[0m: name 'cooMatrixData' is not defined"
     ]
    }
   ],
   "source": [
    "cooMatrixData.write.mode(\"overwrite\").save(\"/data/lastfm-dataset-360K/coo-data.parquet\")"
   ]
  },
  {
   "cell_type": "code",
   "execution_count": 3,
   "metadata": {},
   "outputs": [
    {
     "name": "stdout",
     "output_type": "stream",
     "text": [
      "7\n"
     ]
    }
   ],
   "source": [
    "cooMatrixData = spark.read.load(\"/data/lastfm-dataset-360K/coo-data.parquet\")\n",
    "print(cooMatrixData.rdd.getNumPartitions())"
   ]
  },
  {
   "cell_type": "code",
   "execution_count": 4,
   "metadata": {},
   "outputs": [
    {
     "name": "stdout",
     "output_type": "stream",
     "text": [
      "root\n",
      " |-- userId: integer (nullable = true)\n",
      " |-- artistId: integer (nullable = true)\n",
      " |-- listenCount: float (nullable = true)\n",
      " |-- scaled-by-user: float (nullable = true)\n",
      " |-- scaled-by-artist: float (nullable = true)\n",
      "\n",
      "+------+--------+-----------+--------------+----------------+\n",
      "|userId|artistId|listenCount|scaled-by-user|scaled-by-artist|\n",
      "+------+--------+-----------+--------------+----------------+\n",
      "|201881|148     |48.0       |2.3076925     |1.4402878       |\n",
      "|84477 |148     |238.0      |1.0977128     |3.9007194       |\n",
      "|58282 |148     |231.0      |1.2643003     |3.810072        |\n",
      "|32705 |148     |77.0       |2.7674417     |1.8158274       |\n",
      "|65052 |148     |35.0       |1.156282      |1.2719424       |\n",
      "|30154 |148     |283.0      |2.5765662     |4.4834533       |\n",
      "|116331|148     |54.0       |1.7285714     |1.5179856       |\n",
      "|216540|148     |210.0      |1.3335881     |3.5381296       |\n",
      "|73886 |148     |16.0       |1.1168832     |1.0258993       |\n",
      "|14553 |148     |14.0       |1.0535715     |1.0             |\n",
      "+------+--------+-----------+--------------+----------------+\n",
      "only showing top 10 rows\n",
      "\n"
     ]
    }
   ],
   "source": [
    "%autoreload\n",
    "from mlonspark.scaler import Scaler\n",
    "\n",
    "scaleByUser = Scaler().setGroupCol(\"userId\").setInputCol(\"listenCount\").setOutputCol(\"scaled-by-user\")\n",
    "cooMatrixData = scaleByUser.fit(cooMatrixData).transform(cooMatrixData)\n",
    "\n",
    "scaleByArtist = Scaler().setGroupCol(\"artistId\").setInputCol(\"listenCount\").setOutputCol(\"scaled-by-artist\")\n",
    "cooMatrixData = scaleByArtist.fit(cooMatrixData).transform(cooMatrixData)\n",
    "\n",
    "cooMatrixData.printSchema()\n",
    "cooMatrixData.show(10, False)\n",
    "\n",
    "cooMatrixData.write.mode(\"overwrite\").save(\"/data/lastfm-dataset-360K/coo-data-scaled.parquet\")"
   ]
  },
  {
   "cell_type": "code",
   "execution_count": 5,
   "metadata": {},
   "outputs": [
    {
     "name": "stdout",
     "output_type": "stream",
     "text": [
      "+---------------------+---------------------+\n",
      "|min(scaled-by-artist)|max(scaled-by-artist)|\n",
      "+---------------------+---------------------+\n",
      "|                  1.0|                 10.0|\n",
      "+---------------------+---------------------+\n",
      "\n"
     ]
    }
   ],
   "source": [
    "cooMatrixData.agg(min(\"scaled-by-artist\"), max(\"scaled-by-artist\")).show()"
   ]
  },
  {
   "cell_type": "code",
   "execution_count": 6,
   "metadata": {},
   "outputs": [],
   "source": [
    "train, test = cooMatrixData.randomSplit([0.7, 0.3])\n",
    "\n",
    "train.write.mode(\"overwrite\").save(\"/data/lastfm-dataset-360K/coo-data-train.parquet\")\n",
    "test.write.mode(\"overwrite\").save(\"/data/lastfm-dataset-360K/coo-data-test.parquet\")"
   ]
  },
  {
   "cell_type": "code",
   "execution_count": 7,
   "metadata": {},
   "outputs": [
    {
     "name": "stdout",
     "output_type": "stream",
     "text": [
      "8\n"
     ]
    }
   ],
   "source": [
    "train = spark.read.load(\"/data/lastfm-dataset-360K/coo-data-train.parquet\")\n",
    "print(train.rdd.getNumPartitions())"
   ]
  },
  {
   "cell_type": "code",
   "execution_count": 8,
   "metadata": {},
   "outputs": [],
   "source": [
    "%autoreload\n",
    "from mlonspark.alternating_least_square import AlternatingLeastSquare\n",
    "\n",
    "als = AlternatingLeastSquare()\\\n",
    "    .setUserCol(\"userId\")\\\n",
    "    .setItemCol(\"artistId\")\\\n",
    "    .setRatingCol(\"scaled-by-user\")\\\n",
    "    .setNumUserBlocks(7)\\\n",
    "    .setNumItemBlocks(7)\\\n",
    "    .setMaxIter(10)"
   ]
  },
  {
   "cell_type": "code",
   "execution_count": 9,
   "metadata": {},
   "outputs": [
    {
     "name": "stdout",
     "output_type": "stream",
     "text": [
      "AlternatingLeastSquare_440e8ecefd884cbfb764\n"
     ]
    }
   ],
   "source": [
    "model = als.fit(train)\n",
    "print(model)"
   ]
  },
  {
   "cell_type": "code",
   "execution_count": 10,
   "metadata": {},
   "outputs": [],
   "source": [
    "model.write().overwrite().save('/data/lastfm-dataset-360K/model.alsmodel')"
   ]
  },
  {
   "cell_type": "code",
   "execution_count": 11,
   "metadata": {},
   "outputs": [
    {
     "name": "stdout",
     "output_type": "stream",
     "text": [
      "root\n",
      " |-- userId: integer (nullable = true)\n",
      " |-- artistId: integer (nullable = true)\n",
      " |-- listenCount: float (nullable = true)\n",
      " |-- scaled-by-user: float (nullable = true)\n",
      " |-- scaled-by-artist: float (nullable = true)\n",
      " |-- prediction: float (nullable = false)\n",
      "\n",
      "+------+--------+-----------+--------------+----------------+------------+\n",
      "|userId|artistId|listenCount|scaled-by-user|scaled-by-artist|  prediction|\n",
      "+------+--------+-----------+--------------+----------------+------------+\n",
      "| 38304|     148|       23.0|     1.3435115|       1.1165468|5.9921807E-4|\n",
      "| 54065|     148|      229.0|     3.4793928|       3.7841725|5.4218137E-4|\n",
      "|144880|     148|      145.0|     1.1409639|        2.696403| 5.722666E-4|\n",
      "|153214|     148|      166.0|      1.438134|       2.9683454|2.3577473E-4|\n",
      "| 32705|     148|       77.0|     2.7674417|       1.8158274|5.9686566E-4|\n",
      "|263510|     148|       59.0|     1.1044855|       1.5827338|2.8515604E-4|\n",
      "|177946|     148|       25.0|     1.2352941|        1.142446|6.3812075E-4|\n",
      "| 72977|     463|      131.0|     1.9130435|        3.374372|2.1420046E-5|\n",
      "|327085|     463|      390.0|     3.4048166|        9.231155|2.0797663E-5|\n",
      "|191154|     463|      424.0|     1.0429919|            10.0|1.4804603E-5|\n",
      "+------+--------+-----------+--------------+----------------+------------+\n",
      "only showing top 10 rows\n",
      "\n"
     ]
    }
   ],
   "source": [
    "predictions = model.transform(test)\n",
    "predictions.printSchema()\n",
    "predictions.show(10)"
   ]
  },
  {
   "cell_type": "code",
   "execution_count": 12,
   "metadata": {},
   "outputs": [
    {
     "name": "stdout",
     "output_type": "stream",
     "text": [
      "RMSE = 3.030132\n"
     ]
    }
   ],
   "source": [
    "from pyspark.ml.evaluation import RegressionEvaluator\n",
    "from pyspark.sql.functions import isnan\n",
    "\n",
    "evaluator = RegressionEvaluator()\\\n",
    "    .setMetricName(\"rmse\")\\\n",
    "    .setLabelCol(\"scaled-by-user\")\\\n",
    "    .setPredictionCol(\"prediction\")\n",
    "\n",
    "predictionsFiltered = predictions.where(~isnan(col(\"prediction\")))                                \n",
    "rmse = evaluator.evaluate(predictionsFiltered)\n",
    "\n",
    "print(\"RMSE = %f\" % rmse)"
   ]
  },
  {
   "cell_type": "code",
   "execution_count": 13,
   "metadata": {},
   "outputs": [],
   "source": [
    "#rmse"
   ]
  },
  {
   "cell_type": "code",
   "execution_count": 14,
   "metadata": {},
   "outputs": [],
   "source": [
    "#histogram = cooMatrixData.select(cooMatrixData[\"listenCount\"]).rdd.map(lambda x : x[0]).histogram(100)"
   ]
  },
  {
   "cell_type": "code",
   "execution_count": 15,
   "metadata": {},
   "outputs": [
    {
     "name": "stdout",
     "output_type": "stream",
     "text": [
      "AlternatingLeastSquare_40558fe4bf922627dc04\n",
      "root\n",
      " |-- userId: integer (nullable = true)\n",
      " |-- artistId: integer (nullable = true)\n",
      " |-- listenCount: float (nullable = true)\n",
      " |-- scaled-by-user: float (nullable = true)\n",
      " |-- scaled-by-artist: float (nullable = true)\n",
      " |-- prediction: float (nullable = false)\n",
      "\n",
      "+------+--------+-----------+--------------+----------------+------------+\n",
      "|userId|artistId|listenCount|scaled-by-user|scaled-by-artist|  prediction|\n",
      "+------+--------+-----------+--------------+----------------+------------+\n",
      "|263510|     148|       59.0|     1.1044855|       1.5827338| 6.227538E-4|\n",
      "| 32705|     148|       77.0|     2.7674417|       1.8158274|8.1333134E-4|\n",
      "|177946|     148|       25.0|     1.2352941|        1.142446|0.0011173686|\n",
      "| 54065|     148|      229.0|     3.4793928|       3.7841725| 8.390052E-4|\n",
      "|144880|     148|      145.0|     1.1409639|        2.696403|0.0010109582|\n",
      "| 38304|     148|       23.0|     1.3435115|       1.1165468|7.4140425E-4|\n",
      "|153214|     148|      166.0|      1.438134|       2.9683454| 5.401479E-4|\n",
      "|327085|     463|      390.0|     3.4048166|        9.231155|2.7237285E-5|\n",
      "| 72977|     463|      131.0|     1.9130435|        3.374372|2.0447635E-5|\n",
      "|326012|     463|      350.0|     1.3878808|        8.326633|2.4209048E-5|\n",
      "+------+--------+-----------+--------------+----------------+------------+\n",
      "only showing top 10 rows\n",
      "\n",
      "RMSE = 1.806403\n"
     ]
    }
   ],
   "source": [
    "%autoreload\n",
    "from mlonspark.alternating_least_square import AlternatingLeastSquare\n",
    "\n",
    "als = AlternatingLeastSquare()\\\n",
    "    .setUserCol(\"userId\")\\\n",
    "    .setItemCol(\"artistId\")\\\n",
    "    .setRatingCol(\"scaled-by-artist\")\\\n",
    "    .setNumUserBlocks(7)\\\n",
    "    .setNumItemBlocks(7)\\\n",
    "    .setMaxIter(10)\n",
    "\n",
    "model = als.fit(train)\n",
    "print(model)\n",
    "\n",
    "predictions = model.transform(test)\n",
    "predictions.printSchema()\n",
    "predictions.show(10)\n",
    "\n",
    "from pyspark.ml.evaluation import RegressionEvaluator\n",
    "from pyspark.sql.functions import isnan\n",
    "\n",
    "evaluator = RegressionEvaluator()\\\n",
    "    .setMetricName(\"rmse\")\\\n",
    "    .setLabelCol(\"scaled-by-artist\")\\\n",
    "    .setPredictionCol(\"prediction\")\n",
    "\n",
    "predictionsFiltered = predictions.where(~isnan(col(\"prediction\")))                                \n",
    "rmse = evaluator.evaluate(predictionsFiltered)\n",
    "\n",
    "print(\"RMSE = %f\" % rmse)"
   ]
  },
  {
   "cell_type": "code",
   "execution_count": null,
   "metadata": {},
   "outputs": [],
   "source": []
  }
 ],
 "metadata": {
  "kernelspec": {
   "display_name": "Python 3",
   "language": "python",
   "name": "python3"
  },
  "language_info": {
   "codemirror_mode": {
    "name": "ipython",
    "version": 3
   },
   "file_extension": ".py",
   "mimetype": "text/x-python",
   "name": "python",
   "nbconvert_exporter": "python",
   "pygments_lexer": "ipython3",
   "version": "3.6.9"
  }
 },
 "nbformat": 4,
 "nbformat_minor": 4
}
