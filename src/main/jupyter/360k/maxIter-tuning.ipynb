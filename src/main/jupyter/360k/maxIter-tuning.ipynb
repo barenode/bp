{
 "cells": [
  {
   "cell_type": "code",
   "execution_count": 7,
   "metadata": {},
   "outputs": [
    {
     "name": "stdout",
     "output_type": "stream",
     "text": [
      "The autoreload extension is already loaded. To reload it, use:\n",
      "  %reload_ext autoreload\n",
      "env: SPARK_HOME=/usr/hdp/current/spark2-client\n",
      "findspark initialized ...\n",
      "pyspark ready ...\n"
     ]
    }
   ],
   "source": [
    "%load_ext autoreload\n",
    "%env SPARK_HOME=/usr/hdp/current/spark2-client\n",
    "\n",
    "import findspark\n",
    "findspark.init()\n",
    "\n",
    "print('findspark initialized ...')\n",
    "\n",
    "import pyspark\n",
    "from pyspark.sql import SparkSession\n",
    "from pyspark.sql.functions import expr, col, column, max, min\n",
    "\n",
    "spark = SparkSession.builder.appName('mlonspark')\\\n",
    "    .config('spark.executor.instances', '7')\\\n",
    "    .getOrCreate()\n",
    "\n",
    "print('pyspark ready ...')"
   ]
  },
  {
   "cell_type": "code",
   "execution_count": 8,
   "metadata": {},
   "outputs": [],
   "source": [
    "from pyspark.ml.recommendation import ALS\n",
    "def initalg(val):\n",
    "    return ALS()\\\n",
    "    .setUserCol(\"userId\")\\\n",
    "    .setItemCol(\"artistId\")\\\n",
    "    .setRatingCol(\"listenCount\")\\\n",
    "    .setMaxIter(val)\\\n",
    "    .setRank(40)\\\n",
    "    .setImplicitPrefs(True)\n"
   ]
  },
  {
   "cell_type": "code",
   "execution_count": 9,
   "metadata": {},
   "outputs": [],
   "source": [
    "train = spark.read.load(\"/data/lastfm-dataset-360K/data-filtered-train.parquet\")\n",
    "test = spark.read.load(\"/data/lastfm-dataset-360K/data-filtered-test.parquet\")"
   ]
  },
  {
   "cell_type": "code",
   "execution_count": 10,
   "metadata": {},
   "outputs": [],
   "source": [
    "from pyspark.ml.evaluation import RegressionEvaluator\n",
    "from pyspark.sql.functions import isnan\n",
    "\n",
    "evaluator = RegressionEvaluator()\\\n",
    "    .setMetricName(\"rmse\")\\\n",
    "    .setLabelCol(\"listenCount\")\\\n",
    "    .setPredictionCol(\"prediction\")\n",
    "\n",
    "def runtest(rng, **model_kargs):\n",
    "    res = []\n",
    "    for i in rng:\n",
    "        alg = initalg(i)\n",
    "        model = alg.fit(train)\n",
    "        trainPredictions = model.transform(train)\n",
    "        trainPredictionsFiltered = trainPredictions.where(~isnan(col(\"prediction\")))  \n",
    "        trainRmse = evaluator.evaluate(trainPredictionsFiltered)\n",
    "        testPredictions = model.transform(test)\n",
    "        testPredictionsFiltered = testPredictions.where(~isnan(col(\"prediction\")))    \n",
    "        testRmse = evaluator.evaluate(testPredictionsFiltered)\n",
    "        res.append([i, trainRmse, testRmse])\n",
    "    return res"
   ]
  },
  {
   "cell_type": "code",
   "execution_count": 11,
   "metadata": {},
   "outputs": [
    {
     "name": "stdout",
     "output_type": "stream",
     "text": [
      "[[1, 212.36851062840432, 212.93782946847497], [3, 212.15677361448212, 212.58877409545994], [5, 212.14646898895853, 212.5659206716582], [7, 212.1434555161872, 212.56020161490784], [9, 212.14211257384437, 212.5582060601257], [11, 212.14135488101982, 212.55732975859777], [13, 212.1408543027095, 212.5568542373628], [15, 212.1404857879331, 212.55654030889792], [17, 212.14019350958722, 212.5562983297059], [19, 212.1399495459248, 212.55609230385775]]\n"
     ]
    }
   ],
   "source": [
    "import numpy as np\n",
    "rng = np.arange(1, 20, 2).tolist()\n",
    "res = runtest(rng)\n",
    "print(res)"
   ]
  },
  {
   "cell_type": "code",
   "execution_count": 12,
   "metadata": {},
   "outputs": [
    {
     "data": {
      "text/plain": [
       "Text(0, 0.5, 'RMSE')"
      ]
     },
     "execution_count": 12,
     "metadata": {},
     "output_type": "execute_result"
    },
    {
     "data": {
      "image/png": "[encoded data removed]",
      "text/plain": [
       "<Figure size 576x288 with 1 Axes>"
      ]
     },
     "metadata": {
      "needs_background": "light"
     },
     "output_type": "display_data"
    }
   ],
   "source": [
    "%matplotlib inline\n",
    "import matplotlib as mpl\n",
    "import matplotlib.pyplot as plt\n",
    "\n",
    "x = []\n",
    "yTrain = []\n",
    "yTest = []\n",
    "for v in res:\n",
    "    x.append(v[0])\n",
    "    yTrain.append(v[1])\n",
    "    yTest.append(v[2])\n",
    "\n",
    "plt.figure(figsize=(8,4))\n",
    "plt.plot(x, yTrain, \"g-\", linewidth=2, label=r\"$TRAIN$\")\n",
    "plt.plot(x, yTest, \"r:\", linewidth=2, label=r\"TEST\")\n",
    "plt.legend(loc=\"upper left\", fontsize=15)\n",
    "plt.ylabel(\"RMSE\", fontsize=18)"
   ]
  },
  {
   "cell_type": "code",
   "execution_count": null,
   "metadata": {},
   "outputs": [],
   "source": []
  }
 ],
 "metadata": {
  "kernelspec": {
   "display_name": "Python 3",
   "language": "python",
   "name": "python3"
  },
  "language_info": {
   "codemirror_mode": {
    "name": "ipython",
    "version": 3
   },
   "file_extension": ".py",
   "mimetype": "text/x-python",
   "name": "python",
   "nbconvert_exporter": "python",
   "pygments_lexer": "ipython3",
   "version": "3.6.9"
  }
 },
 "nbformat": 4,
 "nbformat_minor": 4
}
