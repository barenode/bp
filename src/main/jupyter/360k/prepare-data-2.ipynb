{
 "cells": [
  {
   "cell_type": "code",
   "execution_count": 12,
   "metadata": {},
   "outputs": [
    {
     "name": "stdout",
     "output_type": "stream",
     "text": [
      "The autoreload extension is already loaded. To reload it, use:\n",
      "  %reload_ext autoreload\n",
      "env: SPARK_HOME=/usr/hdp/current/spark2-client\n",
      "findspark initialized ...\n",
      "pyspark ready ...\n"
     ]
    }
   ],
   "source": [
    "%load_ext autoreload\n",
    "%env SPARK_HOME=/usr/hdp/current/spark2-client\n",
    "\n",
    "import findspark\n",
    "findspark.init()\n",
    "\n",
    "print('findspark initialized ...')\n",
    "\n",
    "import pyspark\n",
    "from pyspark.sql import SparkSession\n",
    "from pyspark.sql.functions import expr, col, column, max, min\n",
    "\n",
    "spark = SparkSession.builder.appName('mlonspark')\\\n",
    "    .config('spark.executor.instances', '6')\\\n",
    "    .config('spark.jars', '/opt/dev/target/ml-on-spark-1.0.jar')\\\n",
    "    .getOrCreate()\n",
    "\n",
    "print('pyspark ready ...')"
   ]
  },
  {
   "cell_type": "code",
   "execution_count": 13,
   "metadata": {},
   "outputs": [
    {
     "name": "stdout",
     "output_type": "stream",
     "text": [
      "root\n",
      " |-- userHash: string (nullable = true)\n",
      " |-- artistMBID: string (nullable = true)\n",
      " |-- artistName: string (nullable = true)\n",
      " |-- listenCount: double (nullable = true)\n",
      "\n",
      "+--------------------+--------------------+-----------------+-----------+\n",
      "|            userHash|          artistMBID|       artistName|listenCount|\n",
      "+--------------------+--------------------+-----------------+-----------+\n",
      "|00000c289a1829a80...|3bd73256-3905-4f3...|  betty blowtorch|     2137.0|\n",
      "|00000c289a1829a80...|f2fb0ff0-5679-42e...|        die Ärzte|     1099.0|\n",
      "|00000c289a1829a80...|b3ae82c2-e60b-455...|melissa etheridge|      897.0|\n",
      "+--------------------+--------------------+-----------------+-----------+\n",
      "only showing top 3 rows\n",
      "\n"
     ]
    }
   ],
   "source": [
    "df = spark.read.format('csv')\\\n",
    "    .option(\"header\", \"false\")\\\n",
    "    .option(\"sep\", \"\\t\")\\\n",
    "    .option(\"mode\", \"DROPMALFORMED\")\\\n",
    "    .option(\"inferSchema\", \"true\")\\\n",
    "    .load(\"/data/lastfm-dataset-360K/usersha1-artmbid-artname-plays.tsv\")\\\n",
    "    .withColumnRenamed(\"_c0\", \"userHash\")\\\n",
    "    .withColumnRenamed(\"_c1\", \"artistMBID\")\\\n",
    "    .withColumnRenamed(\"_c2\", \"artistName\")\\\n",
    "    .withColumnRenamed(\"_c3\", \"listenCount\")\n",
    "    \n",
    "df.printSchema()\n",
    "df.show(3)\n"
   ]
  },
  {
   "cell_type": "code",
   "execution_count": 28,
   "metadata": {},
   "outputs": [
    {
     "name": "stdout",
     "output_type": "stream",
     "text": [
      "root\n",
      " |-- userHash: string (nullable = true)\n",
      " |-- userId: integer (nullable = true)\n",
      "\n",
      "+--------------------+------+\n",
      "|            userHash|userId|\n",
      "+--------------------+------+\n",
      "|68bddc5a95f7aee26...|     0|\n",
      "|68bf3ef85f3d8bf5d...|     1|\n",
      "|68c12efba3b696a12...|     2|\n",
      "+--------------------+------+\n",
      "only showing top 3 rows\n",
      "\n"
     ]
    }
   ],
   "source": [
    "users = df.select(df.userHash).distinct()\n",
    "users = users.rdd.zipWithIndex().toDF()\n",
    "users = users.select(\\\n",
    "    users._1.userHash.alias(\"userHash\"),\\\n",
    "    users._2.alias(\"userId\").cast(\"integer\"))\n",
    "\n",
    "users.printSchema()\n",
    "users.show(3)"
   ]
  },
  {
   "cell_type": "code",
   "execution_count": 27,
   "metadata": {},
   "outputs": [
    {
     "name": "stdout",
     "output_type": "stream",
     "text": [
      "root\n",
      " |-- artistName: string (nullable = true)\n",
      " |-- artistId: integer (nullable = true)\n",
      "\n",
      "+----------+--------+\n",
      "|artistName|artistId|\n",
      "+----------+--------+\n",
      "|  godsmack|       0|\n",
      "|   embrace|       1|\n",
      "| kate bush|       2|\n",
      "+----------+--------+\n",
      "only showing top 3 rows\n",
      "\n"
     ]
    }
   ],
   "source": [
    "artists = df.select(df.artistName).distinct()\n",
    "artists = artists.rdd.zipWithIndex().toDF()\n",
    "artists = artists.select(\\\n",
    "    artists._1.artistName.alias(\"artistName\"),\\\n",
    "    artists._2.alias(\"artistId\").cast(\"integer\"))\n",
    "\n",
    "artists.printSchema()\n",
    "artists.show(3)"
   ]
  },
  {
   "cell_type": "code",
   "execution_count": 29,
   "metadata": {
    "scrolled": true
   },
   "outputs": [
    {
     "name": "stdout",
     "output_type": "stream",
     "text": [
      "root\n",
      " |-- userId: integer (nullable = true)\n",
      " |-- artistId: integer (nullable = true)\n",
      " |-- listenCount: float (nullable = true)\n",
      "\n",
      "+------+--------+-----------+\n",
      "|userId|artistId|listenCount|\n",
      "+------+--------+-----------+\n",
      "|235047|    1180|       33.0|\n",
      "|  4396|     386|      115.0|\n",
      "|168567|    1208|       63.0|\n",
      "+------+--------+-----------+\n",
      "only showing top 3 rows\n",
      "\n"
     ]
    }
   ],
   "source": [
    "df = df\\\n",
    "    .join(users, df.userHash==users.userHash, 'inner')\\\n",
    "    .join(artists, df.artistName==artists.artistName, 'inner')\\\n",
    "    .select(users.userId, artists.artistId, df.listenCount.cast(\"float\"))\n",
    "\n",
    "df.printSchema()\n",
    "df.show(3)"
   ]
  },
  {
   "cell_type": "code",
   "execution_count": 30,
   "metadata": {},
   "outputs": [],
   "source": [
    "df.write.mode(\"overwrite\").save(\"/data/lastfm-dataset-360K/data.parquet\")\n",
    "artists.write.mode(\"overwrite\").save(\"/data/lastfm-dataset-360K/artists.parquet\")\n",
    "users.write.mode(\"overwrite\").save(\"/data/lastfm-dataset-360K/users.parquet\")"
   ]
  },
  {
   "cell_type": "code",
   "execution_count": 31,
   "metadata": {},
   "outputs": [],
   "source": [
    "train, test = df.randomSplit([0.7, 0.3])\n",
    "\n",
    "train.write.mode(\"overwrite\").save(\"/data/lastfm-dataset-360K/data-train.parquet\")\n",
    "test.write.mode(\"overwrite\").save(\"/data/lastfm-dataset-360K/data-test.parquet\")"
   ]
  },
  {
   "cell_type": "code",
   "execution_count": null,
   "metadata": {},
   "outputs": [],
   "source": []
  }
 ],
 "metadata": {
  "kernelspec": {
   "display_name": "Python 3",
   "language": "python",
   "name": "python3"
  },
  "language_info": {
   "codemirror_mode": {
    "name": "ipython",
    "version": 3
   },
   "file_extension": ".py",
   "mimetype": "text/x-python",
   "name": "python",
   "nbconvert_exporter": "python",
   "pygments_lexer": "ipython3",
   "version": "3.6.9"
  }
 },
 "nbformat": 4,
 "nbformat_minor": 4
}
