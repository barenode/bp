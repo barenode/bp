{
 "cells": [
  {
   "cell_type": "code",
   "execution_count": 1,
   "metadata": {},
   "outputs": [
    {
     "name": "stdout",
     "output_type": "stream",
     "text": [
      "env: SPARK_HOME=/usr/hdp/current/spark2-client\n",
      "findspark initialized ...\n",
      "pyspark ready ...\n"
     ]
    }
   ],
   "source": [
    "%load_ext autoreload\n",
    "%env SPARK_HOME=/usr/hdp/current/spark2-client\n",
    "\n",
    "import findspark\n",
    "findspark.init()\n",
    "\n",
    "print('findspark initialized ...')\n",
    "\n",
    "import pyspark\n",
    "from pyspark.sql import SparkSession\n",
    "from pyspark.sql.functions import expr, col, column, max, min\n",
    "\n",
    "spark = SparkSession.builder.appName('mlonspark')\\\n",
    "    .config('spark.jars', '/opt/dev/target/ml-on-spark-1.0.jar')\\\n",
    "    .getOrCreate()\n",
    "\n",
    "print('pyspark ready ...')"
   ]
  },
  {
   "cell_type": "code",
   "execution_count": 13,
   "metadata": {},
   "outputs": [
    {
     "name": "stdout",
     "output_type": "stream",
     "text": [
      "AlternatingLeastSquare_402e91a7de769379c407\n"
     ]
    }
   ],
   "source": [
    "%autoreload\n",
    "from mlonspark.alternating_least_square import AlternatingLeastSquare\n",
    "\n",
    "als = AlternatingLeastSquare()\\\n",
    "    .setUserCol(\"userId\")\\\n",
    "    .setItemCol(\"itemId\")\\\n",
    "    .setRatingCol(\"rating\")\n",
    "\n",
    "print(als)"
   ]
  },
  {
   "cell_type": "code",
   "execution_count": 2,
   "metadata": {},
   "outputs": [
    {
     "name": "stdout",
     "output_type": "stream",
     "text": [
      "root\n",
      " |-- ISBN: string (nullable = true)\n",
      " |-- Book-Title: string (nullable = true)\n",
      " |-- Book-Author: string (nullable = true)\n",
      " |-- Year-Of-Publication: string (nullable = true)\n",
      " |-- Publisher: string (nullable = true)\n",
      " |-- Image-URL-S: string (nullable = true)\n",
      " |-- Image-URL-M: string (nullable = true)\n",
      " |-- Image-URL-L: string (nullable = true)\n",
      "\n",
      "+------+----------+\n",
      "|bookId|      ISBN|\n",
      "+------+----------+\n",
      "|     0|0195153448|\n",
      "|     1|0002005018|\n",
      "|     2|0060973129|\n",
      "|     3|0374157065|\n",
      "|     4|0393045218|\n",
      "|     5|0399135782|\n",
      "|     6|0425176428|\n",
      "|     7|0671870432|\n",
      "|     8|0679425608|\n",
      "|     9|074322678X|\n",
      "+------+----------+\n",
      "only showing top 10 rows\n",
      "\n"
     ]
    }
   ],
   "source": [
    "books = spark.read.format(\"csv\")\\\n",
    "    .option(\"sep\",\";\")\\\n",
    "    .option(\"header\", \"true\")\\\n",
    "    .load(\"/data/books/BX-Books.csv\")\n",
    "\n",
    "books.printSchema()\n",
    "\n",
    "from pyspark.sql.functions import monotonically_increasing_id \n",
    "\n",
    "identifiedBooks = books.withColumn('bookId', monotonically_increasing_id());\n",
    "identifiedBooks = identifiedBooks.select(['bookId', 'ISBN'])\n",
    "identifiedBooks.show(10)"
   ]
  },
  {
   "cell_type": "code",
   "execution_count": 11,
   "metadata": {},
   "outputs": [
    {
     "name": "stdout",
     "output_type": "stream",
     "text": [
      "Pocet hodnoceni = 1149780\n",
      "Pocet hodnoceni = 1031175\n"
     ]
    }
   ],
   "source": [
    "ratings = spark.read.format(\"csv\")\\\n",
    "    .option(\"sep\",\";\")\\\n",
    "    .option(\"header\", \"true\")\\\n",
    "    .load(\"/data/books/BX-Book-Ratings.csv\")\n",
    "\n",
    "print(\"Pocet hodnoceni = %i\" % ratings.count())\n",
    "\n",
    "\n",
    "joinExp = ratings['ISBN'] == identifiedBooks['ISBN']\n",
    "ratings = ratings.join(identifiedBooks, joinExp, 'inner')\n",
    "\n",
    "ratings = ratings\\\n",
    "    .withColumn('userId', ratings['User-ID'].cast('int'))\\\n",
    "    .withColumn('itemId', ratings['bookId'].cast('int'))\\\n",
    "    .withColumn('rating', ratings['Book-Rating'].cast('float'))\n",
    "\n",
    "print(\"Pocet hodnoceni = %i\" % ratings.count())\n",
    "\n",
    "\n"
   ]
  },
  {
   "cell_type": "code",
   "execution_count": 4,
   "metadata": {
    "scrolled": true
   },
   "outputs": [
    {
     "name": "stdout",
     "output_type": "stream",
     "text": [
      "+----------+----------+\n",
      "|    bookId|      ISBN|\n",
      "+----------+----------+\n",
      "|8590016614|0155061224|\n",
      "+----------+----------+\n",
      "\n"
     ]
    }
   ],
   "source": [
    "identifiedBooks.where(\"ISBN = '0155061224'\").show()"
   ]
  },
  {
   "cell_type": "code",
   "execution_count": 12,
   "metadata": {},
   "outputs": [
    {
     "name": "stdout",
     "output_type": "stream",
     "text": [
      "root\n",
      " |-- User-ID: string (nullable = true)\n",
      " |-- ISBN: string (nullable = true)\n",
      " |-- Book-Rating: string (nullable = true)\n",
      " |-- bookId: long (nullable = false)\n",
      " |-- ISBN: string (nullable = true)\n",
      " |-- userId: integer (nullable = true)\n",
      " |-- itemId: integer (nullable = false)\n",
      " |-- rating: float (nullable = true)\n",
      "\n",
      "+-------+----------+-----------+----------+----------+------+------+------+\n",
      "|User-ID|      ISBN|Book-Rating|    bookId|      ISBN|userId|itemId|rating|\n",
      "+-------+----------+-----------+----------+----------+------+------+------+\n",
      "| 276725|034545104X|          0|      2966|034545104X|276725|  2966|   0.0|\n",
      "| 276726|0155061224|          5|8590016614|0155061224|276726| 82022|   5.0|\n",
      "| 276727|0446520802|          0|     11054|0446520802|276727| 11054|   0.0|\n",
      "| 276729|052165615X|          3|8590037639|052165615X|276729|103047|   3.0|\n",
      "| 276729|0521795028|          6|8590037640|0521795028|276729|103048|   6.0|\n",
      "| 276733|2080674722|          0|    123645|2080674722|276733|123645|   0.0|\n",
      "| 276744|038550120X|          7|      9295|038550120X|276744|  9295|   7.0|\n",
      "| 276746|0425115801|          0|      2030|0425115801|276746|  2030|   0.0|\n",
      "| 276746|0449006522|          0|       227|0449006522|276746|   227|   0.0|\n",
      "| 276746|0553561618|          0|      1004|0553561618|276746|  1004|   0.0|\n",
      "+-------+----------+-----------+----------+----------+------+------+------+\n",
      "only showing top 10 rows\n",
      "\n"
     ]
    }
   ],
   "source": [
    "ratings.printSchema()\n",
    "ratings.show(10)\n"
   ]
  },
  {
   "cell_type": "code",
   "execution_count": null,
   "metadata": {},
   "outputs": [],
   "source": [
    "print(\"Pocet propojenych hodnoceni = %i\" % ratingsConverted.count())\n",
    "print(\"Pocet hodnoceni s item id = %i\" % ratingsConverted.where('bookId is not null').count())\n",
    "print(\"Pocet hodnoceni s user id = %i\" % ratingsConverted.where('userId is not null').count())"
   ]
  },
  {
   "cell_type": "code",
   "execution_count": 15,
   "metadata": {},
   "outputs": [
    {
     "name": "stdout",
     "output_type": "stream",
     "text": [
      "+-------+----------+-----------+------+----------+------+\n",
      "|User-ID|      ISBN|Book-Rating|userId|    itemId|rating|\n",
      "+-------+----------+-----------+------+----------+------+\n",
      "| 276725|034545104X|          0|276725|      null|   0.0|\n",
      "| 276726|0155061224|          5|276726| 155061224|   5.0|\n",
      "| 276727|0446520802|          0|276727| 446520802|   0.0|\n",
      "| 276729|052165615X|          3|276729|      null|   3.0|\n",
      "| 276729|0521795028|          6|276729| 521795028|   6.0|\n",
      "| 276733|2080674722|          0|276733|2080674722|   0.0|\n",
      "| 276736|3257224281|          8|276736|      null|   8.0|\n",
      "| 276737|0600570967|          6|276737| 600570967|   6.0|\n",
      "| 276744|038550120X|          7|276744|      null|   7.0|\n",
      "| 276745| 342310538|         10|276745| 342310538|  10.0|\n",
      "+-------+----------+-----------+------+----------+------+\n",
      "only showing top 10 rows\n",
      "\n"
     ]
    },
    {
     "ename": "AttributeError",
     "evalue": "'NoneType' object has no attribute 'toPandas'",
     "output_type": "error",
     "traceback": [
      "\u001b[0;31m---------------------------------------------------------------------------\u001b[0m",
      "\u001b[0;31mAttributeError\u001b[0m                            Traceback (most recent call last)",
      "\u001b[0;32m<ipython-input-15-8481de30f18e>\u001b[0m in \u001b[0;36m<module>\u001b[0;34m\u001b[0m\n\u001b[0;32m----> 1\u001b[0;31m \u001b[0mratingsConverted\u001b[0m\u001b[0;34m.\u001b[0m\u001b[0mshow\u001b[0m\u001b[0;34m(\u001b[0m\u001b[0;36m10\u001b[0m\u001b[0;34m)\u001b[0m\u001b[0;34m.\u001b[0m\u001b[0mtoPandas\u001b[0m\u001b[0;34m(\u001b[0m\u001b[0;34m)\u001b[0m\u001b[0;34m\u001b[0m\u001b[0;34m\u001b[0m\u001b[0m\n\u001b[0m",
      "\u001b[0;31mAttributeError\u001b[0m: 'NoneType' object has no attribute 'toPandas'"
     ]
    }
   ],
   "source": [
    "ratingsConverted.show(10)"
   ]
  },
  {
   "cell_type": "code",
   "execution_count": 15,
   "metadata": {},
   "outputs": [
    {
     "name": "stdout",
     "output_type": "stream",
     "text": [
      "AlternatingLeastSquare_402e91a7de769379c407\n"
     ]
    }
   ],
   "source": [
    "model = als.fit(ratings)\n",
    "print(model)"
   ]
  },
  {
   "cell_type": "code",
   "execution_count": 23,
   "metadata": {},
   "outputs": [],
   "source": [
    "model.write().overwrite().save('/data/books/model')"
   ]
  },
  {
   "cell_type": "code",
   "execution_count": null,
   "metadata": {},
   "outputs": [],
   "source": []
  }
 ],
 "metadata": {
  "kernelspec": {
   "display_name": "Python 3",
   "language": "python",
   "name": "python3"
  },
  "language_info": {
   "codemirror_mode": {
    "name": "ipython",
    "version": 3
   },
   "file_extension": ".py",
   "mimetype": "text/x-python",
   "name": "python",
   "nbconvert_exporter": "python",
   "pygments_lexer": "ipython3",
   "version": "3.6.9"
  }
 },
 "nbformat": 4,
 "nbformat_minor": 2
}
