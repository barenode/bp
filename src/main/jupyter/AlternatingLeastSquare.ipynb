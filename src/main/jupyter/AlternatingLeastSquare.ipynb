{
 "cells": [
  {
   "cell_type": "code",
   "execution_count": 1,
   "metadata": {},
   "outputs": [
    {
     "name": "stdout",
     "output_type": "stream",
     "text": [
      "env: SPARK_HOME=/usr/hdp/current/spark2-client\n",
      "findspark initialized ...\n",
      "pyspark ready ...\n"
     ]
    }
   ],
   "source": [
    "%load_ext autoreload\n",
    "%env SPARK_HOME=/usr/hdp/current/spark2-client\n",
    "\n",
    "import findspark\n",
    "findspark.init()\n",
    "\n",
    "print('findspark initialized ...')\n",
    "\n",
    "import pyspark\n",
    "from pyspark.sql import SparkSession\n",
    "from pyspark.sql.functions import expr, col, column, max, min\n",
    "\n",
    "spark = SparkSession.builder.appName('mlonspark')\\\n",
    "    .config('spark.executor.instances', '8')\\\n",
    "    .config('spark.jars', '/opt/dev/target/ml-on-spark-1.0.jar')\\\n",
    "    .getOrCreate()\n",
    "\n",
    "#   \n",
    "    \n",
    "print('pyspark ready ...')"
   ]
  },
  {
   "cell_type": "code",
   "execution_count": 2,
   "metadata": {},
   "outputs": [
    {
     "name": "stdout",
     "output_type": "stream",
     "text": [
      "root\n",
      " |-- User-ID: string (nullable = true)\n",
      " |-- ISBN: string (nullable = true)\n",
      " |-- Book-Rating: string (nullable = true)\n",
      " |-- rating: float (nullable = true)\n",
      " |-- bookId: integer (nullable = true)\n",
      " |-- Location: string (nullable = true)\n",
      " |-- Age: string (nullable = true)\n",
      " |-- userId: integer (nullable = true)\n",
      "\n"
     ]
    }
   ],
   "source": [
    "train = spark.read.format(\"parquet\").load(\"/data/books/ratings-train.parquet\")\n",
    "train.printSchema()"
   ]
  },
  {
   "cell_type": "code",
   "execution_count": 3,
   "metadata": {},
   "outputs": [
    {
     "name": "stdout",
     "output_type": "stream",
     "text": [
      "AlternatingLeastSquare_451184b0e43d4f21db00\n"
     ]
    }
   ],
   "source": [
    "%autoreload\n",
    "from mlonspark.alternating_least_square import AlternatingLeastSquare\n",
    "#from mlonspark.alternating_least_square import XALS\n",
    "\n",
    "als = AlternatingLeastSquare()\\\n",
    "    .setUserCol(\"userId\")\\\n",
    "    .setItemCol(\"bookId\")\\\n",
    "    .setRatingCol(\"rating\")\n",
    "\n",
    "print(als)"
   ]
  },
  {
   "cell_type": "code",
   "execution_count": 4,
   "metadata": {},
   "outputs": [
    {
     "name": "stdout",
     "output_type": "stream",
     "text": [
      "AlternatingLeastSquare_451184b0e43d4f21db00\n"
     ]
    }
   ],
   "source": [
    "model = als.fit(train)\n",
    "print(model)"
   ]
  },
  {
   "cell_type": "code",
   "execution_count": 5,
   "metadata": {},
   "outputs": [],
   "source": [
    "model.write().overwrite().save('/data/books/model.alsmodel')"
   ]
  },
  {
   "cell_type": "code",
   "execution_count": 6,
   "metadata": {},
   "outputs": [],
   "source": [
    "%autoreload\n",
    "#from mlonspark.alternating_least_square import AlternatingLeastSquareModel\n",
    "\n",
    "#model = AlternatingLeastSquareModel.read().load('/data/books/model.alsmodel')"
   ]
  },
  {
   "cell_type": "code",
   "execution_count": 7,
   "metadata": {},
   "outputs": [
    {
     "name": "stdout",
     "output_type": "stream",
     "text": [
      "AlternatingLeastSquare_451184b0e43d4f21db00\n"
     ]
    }
   ],
   "source": [
    "print(model)"
   ]
  },
  {
   "cell_type": "code",
   "execution_count": 8,
   "metadata": {},
   "outputs": [
    {
     "name": "stdout",
     "output_type": "stream",
     "text": [
      "root\n",
      " |-- User-ID: string (nullable = true)\n",
      " |-- ISBN: string (nullable = true)\n",
      " |-- Book-Rating: string (nullable = true)\n",
      " |-- rating: float (nullable = true)\n",
      " |-- bookId: integer (nullable = true)\n",
      " |-- Location: string (nullable = true)\n",
      " |-- Age: string (nullable = true)\n",
      " |-- userId: integer (nullable = true)\n",
      "\n"
     ]
    }
   ],
   "source": [
    "test = spark.read.format(\"parquet\").load(\"/data/books/ratings-test.parquet\")\n",
    "test.printSchema()"
   ]
  },
  {
   "cell_type": "code",
   "execution_count": 9,
   "metadata": {},
   "outputs": [
    {
     "name": "stdout",
     "output_type": "stream",
     "text": [
      "root\n",
      " |-- User-ID: string (nullable = true)\n",
      " |-- ISBN: string (nullable = true)\n",
      " |-- Book-Rating: string (nullable = true)\n",
      " |-- rating: float (nullable = true)\n",
      " |-- bookId: integer (nullable = true)\n",
      " |-- Location: string (nullable = true)\n",
      " |-- Age: string (nullable = true)\n",
      " |-- userId: integer (nullable = true)\n",
      " |-- prediction: float (nullable = false)\n",
      "\n",
      "+-------+----------+-----------+------+------+--------------------+----+------+-------------+\n",
      "|User-ID|      ISBN|Book-Rating|rating|bookId|            Location| Age|userId|   prediction|\n",
      "+-------+----------+-----------+------+------+--------------------+----+------+-------------+\n",
      "|  27813|0971880107|          0|   1.0|    26|  boerne, texas, usa|  34| 27813|  0.026998185|\n",
      "| 150364|0971880107|          0|   1.0|    26|santo domingo, n/...|  36|150364|  0.026749456|\n",
      "| 243930|0971880107|          0|   1.0|    26|montreuil, seine ...|  43|243930|   0.30657512|\n",
      "|  43058|0971880107|          0|   1.0|    26|bridport, england...|NULL| 43058|2.1381521E-32|\n",
      "| 162311|0971880107|          5|   1.0|    26| largo, florida, usa|  22|162311|   0.19738387|\n",
      "| 171986|0971880107|          0|   1.0|    26|sandhurst, englan...|  47|171986|   0.02945657|\n",
      "| 184424|0971880107|          7|   1.0|    26|   dayton, ohio, usa|  44|184424|    0.3249329|\n",
      "|  69721|0971880107|          0|   1.0|    26|minneapolis, minn...|  32| 69721|   0.17094958|\n",
      "|  70731|0971880107|          0|   1.0|    26|ivanhoe, victoria...|  38| 70731| 0.0010799593|\n",
      "|  98893|0971880107|          0|   1.0|    26|m�rida, badajoz, ...|  26| 98893| 0.0014933342|\n",
      "+-------+----------+-----------+------+------+--------------------+----+------+-------------+\n",
      "only showing top 10 rows\n",
      "\n"
     ]
    }
   ],
   "source": [
    "predictions = model.transform(test)\n",
    "predictions.printSchema()\n",
    "predictions.show(10)"
   ]
  },
  {
   "cell_type": "code",
   "execution_count": 10,
   "metadata": {
    "scrolled": true
   },
   "outputs": [
    {
     "name": "stdout",
     "output_type": "stream",
     "text": [
      "number of predictions = 279936\n",
      "RMSE = 1.622174\n"
     ]
    }
   ],
   "source": [
    "from pyspark.ml.evaluation import RegressionEvaluator\n",
    "from pyspark.sql.functions import isnan\n",
    "\n",
    "evaluator = RegressionEvaluator()\\\n",
    "    .setMetricName(\"rmse\")\\\n",
    "    .setLabelCol(\"rating\")\\\n",
    "    .setPredictionCol(\"prediction\")\n",
    "\n",
    "predictionsFiltered = predictions.where(~isnan(col(\"prediction\")))\n",
    "                                \n",
    "print(\"number of predictions = %i\" % predictionsFiltered.count())\n",
    "\n",
    "rmse = evaluator.evaluate(predictionsFiltered)\n",
    "\n",
    "print(\"RMSE = %f\" % rmse)"
   ]
  },
  {
   "cell_type": "code",
   "execution_count": 14,
   "metadata": {},
   "outputs": [],
   "source": [
    "from pyspark.ml import Pipeline\n",
    "from pyspark.ml.tuning import CrossValidator, ParamGridBuilder\n",
    "from pyspark.ml.recommendation import ALS\n",
    "\n",
    "#als2 = XALS()\\\n",
    "#    .setUserCol(\"userId\")\\\n",
    "#    .setItemCol(\"bookId\")\\\n",
    "#    .setRatingCol(\"rating\")\n",
    "\n",
    "pipeline = Pipeline().setStages([als])\n",
    "\n",
    "params = ParamGridBuilder()\\\n",
    "    .addGrid(als.rank, range(6, 24, 2))\\\n",
    "    .build()\n",
    "#    .addGrid(als.rank, [2, 5, 10])\\\n",
    "    \n",
    "\n",
    "cv = CrossValidator()\\\n",
    "    .setEstimator(als)\\\n",
    "    .setEstimatorParamMaps(params)\\\n",
    "    .setEvaluator(evaluator)\\\n",
    "    .setNumFolds(5)\n",
    "\n",
    "model = cv.fit(train)"
   ]
  },
  {
   "cell_type": "code",
   "execution_count": 15,
   "metadata": {},
   "outputs": [
    {
     "data": {
      "text/plain": [
       "[1.6209561629874365,\n",
       " 1.6205474326224263,\n",
       " 1.6197064651447595,\n",
       " 1.6194483412184253,\n",
       " 1.619152001040322,\n",
       " 1.6187775703541334,\n",
       " 1.6186348739480114,\n",
       " 1.618588836144526,\n",
       " 1.6183966092557387]"
      ]
     },
     "execution_count": 15,
     "metadata": {},
     "output_type": "execute_result"
    }
   ],
   "source": [
    "model.bestModel\n",
    "model.avgMetrics"
   ]
  },
  {
   "cell_type": "code",
   "execution_count": 16,
   "metadata": {},
   "outputs": [],
   "source": [
    "bestModel = model.bestModel\n",
    "\n",
    "bestModel.write().overwrite().save('/data/books/bestModel-rank.model')"
   ]
  },
  {
   "cell_type": "code",
   "execution_count": 17,
   "metadata": {},
   "outputs": [
    {
     "name": "stdout",
     "output_type": "stream",
     "text": [
      "RMSE = 1.619105\n"
     ]
    }
   ],
   "source": [
    "predictionsBestModel = bestModel.transform(test)\n",
    "bestModelRmse = evaluator.evaluate(predictionsBestModel)\n",
    "\n",
    "print(\"RMSE = %f\" % bestModelRmse)"
   ]
  },
  {
   "cell_type": "code",
   "execution_count": null,
   "metadata": {},
   "outputs": [],
   "source": []
  }
 ],
 "metadata": {
  "kernelspec": {
   "display_name": "Python 3",
   "language": "python",
   "name": "python3"
  },
  "language_info": {
   "codemirror_mode": {
    "name": "ipython",
    "version": 3
   },
   "file_extension": ".py",
   "mimetype": "text/x-python",
   "name": "python",
   "nbconvert_exporter": "python",
   "pygments_lexer": "ipython3",
   "version": "3.6.9"
  }
 },
 "nbformat": 4,
 "nbformat_minor": 2
}
