{
 "cells": [
  {
   "cell_type": "code",
   "execution_count": 1,
   "metadata": {},
   "outputs": [
    {
     "name": "stdout",
     "output_type": "stream",
     "text": [
      "env: SPARK_HOME=/usr/hdp/current/spark2-client\n",
      "findspark initialized ...\n",
      "pyspark ready ...\n"
     ]
    }
   ],
   "source": [
    "%load_ext autoreload\n",
    "%env SPARK_HOME=/usr/hdp/current/spark2-client\n",
    "\n",
    "import findspark\n",
    "findspark.init()\n",
    "\n",
    "print('findspark initialized ...')\n",
    "\n",
    "import pyspark\n",
    "from pyspark.sql import SparkSession\n",
    "from pyspark.sql.functions import expr, col, column, max, min\n",
    "\n",
    "spark = SparkSession.builder.appName('mlonspark')\\\n",
    "    .config('spark.executor.instances', '8')\\\n",
    "    .config('spark.jars', '/opt/dev/target/ml-on-spark-1.0.jar')\\\n",
    "    .getOrCreate()\n",
    "\n",
    "#   \n",
    "    \n",
    "print('pyspark ready ...')"
   ]
  },
  {
   "cell_type": "code",
   "execution_count": 2,
   "metadata": {},
   "outputs": [
    {
     "name": "stdout",
     "output_type": "stream",
     "text": [
      "root\n",
      " |-- User-ID: string (nullable = true)\n",
      " |-- ISBN: string (nullable = true)\n",
      " |-- Book-Rating: string (nullable = true)\n",
      " |-- rating: float (nullable = true)\n",
      " |-- bookId: integer (nullable = true)\n",
      " |-- Location: string (nullable = true)\n",
      " |-- Age: string (nullable = true)\n",
      " |-- userId: integer (nullable = true)\n",
      "\n"
     ]
    }
   ],
   "source": [
    "train = spark.read.format(\"parquet\").load(\"/data/books/ratings-train.parquet\")\n",
    "train.printSchema()"
   ]
  },
  {
   "cell_type": "code",
   "execution_count": 3,
   "metadata": {},
   "outputs": [
    {
     "name": "stdout",
     "output_type": "stream",
     "text": [
      "AlternatingLeastSquare_4b4db04e24c73ff6f966\n"
     ]
    }
   ],
   "source": [
    "%autoreload\n",
    "from mlonspark.alternating_least_square import AlternatingLeastSquare\n",
    "from pyspark.ml.recommendation import ALS\n",
    "#from mlonspark.alternating_least_square import XALS\n",
    "\n",
    "als = AlternatingLeastSquare()\\\n",
    "    .setUserCol(\"userId\")\\\n",
    "    .setItemCol(\"bookId\")\\\n",
    "    .setRatingCol(\"rating\")\\\n",
    "    .setMaxIter(10)\n",
    "\n",
    "#\\\n",
    "#    .setImplicitPrefs(True)\n",
    "\n",
    "print(als)"
   ]
  },
  {
   "cell_type": "code",
   "execution_count": 4,
   "metadata": {},
   "outputs": [
    {
     "name": "stdout",
     "output_type": "stream",
     "text": [
      "AlternatingLeastSquare_4b4db04e24c73ff6f966\n"
     ]
    }
   ],
   "source": [
    "model = als.fit(train)\n",
    "print(model)"
   ]
  },
  {
   "cell_type": "code",
   "execution_count": 6,
   "metadata": {},
   "outputs": [],
   "source": [
    "model.write().overwrite().save('/data/books/model.alsmodel')"
   ]
  },
  {
   "cell_type": "code",
   "execution_count": 6,
   "metadata": {},
   "outputs": [],
   "source": [
    "%autoreload\n",
    "#from mlonspark.alternating_least_square import AlternatingLeastSquareModel\n",
    "\n",
    "#model = AlternatingLeastSquareModel.read().load('/data/books/model.alsmodel')"
   ]
  },
  {
   "cell_type": "code",
   "execution_count": 7,
   "metadata": {},
   "outputs": [
    {
     "name": "stdout",
     "output_type": "stream",
     "text": [
      "AlternatingLeastSquare_4235bce2c3f8585e3432\n"
     ]
    }
   ],
   "source": [
    "print(model)"
   ]
  },
  {
   "cell_type": "code",
   "execution_count": 5,
   "metadata": {},
   "outputs": [
    {
     "name": "stdout",
     "output_type": "stream",
     "text": [
      "root\n",
      " |-- User-ID: string (nullable = true)\n",
      " |-- ISBN: string (nullable = true)\n",
      " |-- Book-Rating: string (nullable = true)\n",
      " |-- rating: float (nullable = true)\n",
      " |-- bookId: integer (nullable = true)\n",
      " |-- Location: string (nullable = true)\n",
      " |-- Age: string (nullable = true)\n",
      " |-- userId: integer (nullable = true)\n",
      "\n"
     ]
    }
   ],
   "source": [
    "test = spark.read.format(\"parquet\").load(\"/data/books/ratings-test.parquet\")\n",
    "test.printSchema()"
   ]
  },
  {
   "cell_type": "code",
   "execution_count": 6,
   "metadata": {},
   "outputs": [
    {
     "name": "stdout",
     "output_type": "stream",
     "text": [
      "root\n",
      " |-- User-ID: string (nullable = true)\n",
      " |-- ISBN: string (nullable = true)\n",
      " |-- Book-Rating: string (nullable = true)\n",
      " |-- rating: float (nullable = true)\n",
      " |-- bookId: integer (nullable = true)\n",
      " |-- Location: string (nullable = true)\n",
      " |-- Age: string (nullable = true)\n",
      " |-- userId: integer (nullable = true)\n",
      " |-- prediction: float (nullable = false)\n",
      "\n",
      "+-------+----------+-----------+------+------+--------------------+----+------+------------+\n",
      "|User-ID|      ISBN|Book-Rating|rating|bookId|            Location| Age|userId|  prediction|\n",
      "+-------+----------+-----------+------+------+--------------------+----+------+------------+\n",
      "|  11676|0380778556|          0|   1.0|   148|       n/a, n/a, n/a|NULL| 11676|  0.72542936|\n",
      "| 259312|0380778556|         10|   4.0|   148|missouri city, te...|NULL|259312|0.0020416633|\n",
      "| 216882|0380778556|          9|   3.0|   148|adelaide, south a...|NULL|216882| 0.013926785|\n",
      "| 130474|0380778556|          0|   1.0|   148|nashville, tennes...|  33|130474| 0.017355083|\n",
      "| 159033|0380778556|          0|   1.0|   148|taneytown, maryla...|  46|159033|  0.07659051|\n",
      "| 147847|0380778556|          5|   1.0|   148|greenville, illin...|NULL|147847| 0.063725114|\n",
      "|  88283|0380778556|          0|   1.0|   148|hamburg, hamburg,...|  24| 88283|  0.06294894|\n",
      "| 230262|0380778556|          5|   1.0|   148|chesterfield, mis...|  41|230262| 0.002560656|\n",
      "| 239413|0380778556|          7|   1.0|   148|  austin, texas, usa|  28|239413|  0.00557637|\n",
      "|  17282|0380778556|          3|   1.0|   148|irwin, pennsylvan...|  38| 17282|0.0073220152|\n",
      "+-------+----------+-----------+------+------+--------------------+----+------+------------+\n",
      "only showing top 10 rows\n",
      "\n"
     ]
    }
   ],
   "source": [
    "predictions = model.transform(test)\n",
    "predictions.printSchema()\n",
    "predictions.show(10)"
   ]
  },
  {
   "cell_type": "code",
   "execution_count": 7,
   "metadata": {
    "scrolled": true
   },
   "outputs": [
    {
     "name": "stdout",
     "output_type": "stream",
     "text": [
      "number of predictions = 279344\n",
      "RMSE = 1.617414\n"
     ]
    }
   ],
   "source": [
    "from pyspark.ml.evaluation import RegressionEvaluator\n",
    "from pyspark.sql.functions import isnan\n",
    "\n",
    "evaluator = RegressionEvaluator()\\\n",
    "    .setMetricName(\"rmse\")\\\n",
    "    .setLabelCol(\"rating\")\\\n",
    "    .setPredictionCol(\"prediction\")\n",
    "\n",
    "predictionsFiltered = predictions.where(~isnan(col(\"prediction\")))\n",
    "                                \n",
    "print(\"number of predictions = %i\" % predictionsFiltered.count())\n",
    "\n",
    "rmse = evaluator.evaluate(predictionsFiltered)\n",
    "\n",
    "print(\"RMSE = %f\" % rmse)"
   ]
  },
  {
   "cell_type": "code",
   "execution_count": 14,
   "metadata": {},
   "outputs": [],
   "source": [
    "from pyspark.ml import Pipeline\n",
    "from pyspark.ml.tuning import CrossValidator, ParamGridBuilder\n",
    "from pyspark.ml.recommendation import ALS\n",
    "\n",
    "#als2 = XALS()\\\n",
    "#    .setUserCol(\"userId\")\\\n",
    "#    .setItemCol(\"bookId\")\\\n",
    "#    .setRatingCol(\"rating\")\n",
    "\n",
    "pipeline = Pipeline().setStages([als])\n",
    "\n",
    "params = ParamGridBuilder()\\\n",
    "    .addGrid(als.rank, range(6, 24, 2))\\\n",
    "    .build()\n",
    "#    .addGrid(als.rank, [2, 5, 10])\\\n",
    "    \n",
    "\n",
    "cv = CrossValidator()\\\n",
    "    .setEstimator(als)\\\n",
    "    .setEstimatorParamMaps(params)\\\n",
    "    .setEvaluator(evaluator)\\\n",
    "    .setNumFolds(5)\n",
    "\n",
    "model = cv.fit(train)"
   ]
  },
  {
   "cell_type": "code",
   "execution_count": 15,
   "metadata": {},
   "outputs": [
    {
     "data": {
      "text/plain": [
       "[1.6209561629874365,\n",
       " 1.6205474326224263,\n",
       " 1.6197064651447595,\n",
       " 1.6194483412184253,\n",
       " 1.619152001040322,\n",
       " 1.6187775703541334,\n",
       " 1.6186348739480114,\n",
       " 1.618588836144526,\n",
       " 1.6183966092557387]"
      ]
     },
     "execution_count": 15,
     "metadata": {},
     "output_type": "execute_result"
    }
   ],
   "source": [
    "model.bestModel\n",
    "model.avgMetrics"
   ]
  },
  {
   "cell_type": "code",
   "execution_count": 16,
   "metadata": {},
   "outputs": [],
   "source": [
    "bestModel = model.bestModel\n",
    "\n",
    "bestModel.write().overwrite().save('/data/books/bestModel-rank.model')"
   ]
  },
  {
   "cell_type": "code",
   "execution_count": 17,
   "metadata": {},
   "outputs": [
    {
     "name": "stdout",
     "output_type": "stream",
     "text": [
      "RMSE = 1.619105\n"
     ]
    }
   ],
   "source": [
    "predictionsBestModel = bestModel.transform(test)\n",
    "bestModelRmse = evaluator.evaluate(predictionsBestModel)\n",
    "\n",
    "print(\"RMSE = %f\" % bestModelRmse)"
   ]
  },
  {
   "cell_type": "code",
   "execution_count": null,
   "metadata": {},
   "outputs": [],
   "source": []
  }
 ],
 "metadata": {
  "kernelspec": {
   "display_name": "Python 3",
   "language": "python",
   "name": "python3"
  },
  "language_info": {
   "codemirror_mode": {
    "name": "ipython",
    "version": 3
   },
   "file_extension": ".py",
   "mimetype": "text/x-python",
   "name": "python",
   "nbconvert_exporter": "python",
   "pygments_lexer": "ipython3",
   "version": "3.6.9"
  }
 },
 "nbformat": 4,
 "nbformat_minor": 2
}
